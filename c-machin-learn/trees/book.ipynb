{
 "cells": [
  {
   "cell_type": "code",
   "execution_count": 2,
   "id": "d5f13246",
   "metadata": {},
   "outputs": [],
   "source": [
    "import numpy as np\n",
    "import pandas as pd\n",
    "from matplotlib.pyplot import subplots\n",
    "from statsmodels.datasets import get_rdataset\n",
    "import sklearn.model_selection as skm\n",
    "from ISLP import load_data, confusion_table\n",
    "from ISLP.models import ModelSpec as MS"
   ]
  },
  {
   "cell_type": "code",
   "execution_count": null,
   "id": "d7e4964c",
   "metadata": {},
   "outputs": [],
   "source": [
    "from sklearn.tree import (DecisionTreeClassifier,\n",
    "                          plot_tree,\n",
    "                          export_text)\n",
    "\n",
    "from sklearn.metrics import (accuracy_score,\n",
    "                             log_loss)\n",
    "\n",
    "from sklearn.ensemble import \\\n",
    "    (RandomForestRegressor as RF,\n",
    "     HistGradientBoostingRegressor as GBR)\n",
    "\n",
    "from ISLP.bart import BART"
   ]
  },
  {
   "cell_type": "code",
   "execution_count": 24,
   "id": "69679492",
   "metadata": {},
   "outputs": [],
   "source": [
    "Carseats = load_data(\"Carseats\")"
   ]
  },
  {
   "cell_type": "code",
   "execution_count": 25,
   "id": "686d6d0a",
   "metadata": {},
   "outputs": [],
   "source": [
    "hight = np.where(Carseats.Sales > 8, \n",
    "         \"Yes\", \n",
    "         \"No\")"
   ]
  },
  {
   "cell_type": "code",
   "execution_count": 26,
   "id": "1f175a28",
   "metadata": {},
   "outputs": [],
   "source": [
    "model = MS(Carseats.columns.drop('Sales'), intercept=False)"
   ]
  },
  {
   "cell_type": "code",
   "execution_count": 28,
   "id": "4adc8828",
   "metadata": {},
   "outputs": [],
   "source": [
    "D = model.fit_transform(Carseats)"
   ]
  },
  {
   "cell_type": "code",
   "execution_count": 29,
   "id": "ce650397",
   "metadata": {},
   "outputs": [],
   "source": [
    "feature_names = list(D.columns)"
   ]
  }
 ],
 "metadata": {
  "kernelspec": {
   "display_name": "dsroad",
   "language": "python",
   "name": "python3"
  },
  "language_info": {
   "codemirror_mode": {
    "name": "ipython",
    "version": 3
   },
   "file_extension": ".py",
   "mimetype": "text/x-python",
   "name": "python",
   "nbconvert_exporter": "python",
   "pygments_lexer": "ipython3",
   "version": "3.13.3"
  }
 },
 "nbformat": 4,
 "nbformat_minor": 5
}
