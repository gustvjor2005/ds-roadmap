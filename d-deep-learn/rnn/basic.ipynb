{
 "cells": [
  {
   "cell_type": "markdown",
   "id": "1f2d06e6",
   "metadata": {},
   "source": [
    "RNN and LSTM \n",
    "\n",
    "resources:\n",
    "\n",
    "https://colah.github.io/posts/2015-08-Understanding-LSTMs/\n",
    "\n",
    "https://stanford.edu/~shervine/teaching/cs-229/cheatsheet-deep-learning#nn\n"
   ]
  },
  {
   "cell_type": "code",
   "execution_count": 2,
   "id": "703e47ff",
   "metadata": {},
   "outputs": [],
   "source": [
    "from sklearn import model_selection\n",
    "import yfinance as yf\n",
    "import numpy as np\n",
    "import pandas as pd\n",
    "import torch\n",
    "from torch import nn \n",
    "from torch.utils.data import Dataset, DataLoader\n",
    "from sklearn.preprocessing import MinMaxScaler\n",
    "from sklearn.model_selection import train_test_split"
   ]
  },
  {
   "cell_type": "code",
   "execution_count": null,
   "id": "d141aaa4",
   "metadata": {},
   "outputs": [],
   "source": [
    "ticker='BAP'\n",
    "df = yf.download(ticker, start='2025-01-01', end='2025-06-18')\n",
    "df = df[['Close']]\n",
    "df"
   ]
  },
  {
   "cell_type": "code",
   "execution_count": 8,
   "id": "55f504eb",
   "metadata": {},
   "outputs": [],
   "source": [
    "scaler = MinMaxScaler()\n",
    "scaled = scaler.fit_transform(df)\n",
    "\n",
    "sequence_length = 10\n",
    "\n",
    "scaled\n",
    "\n",
    "def create_sequence(data, sequence_length):\n",
    "    X, y = [], []\n",
    "    for i in range(len(data) - sequence_length):\n",
    "        X.append(data[i:i+sequence_length])\n",
    "        y.append(data[i+sequence_length])\n",
    "    return np.array(X), np.array(y)"
   ]
  },
  {
   "cell_type": "code",
   "execution_count": 11,
   "id": "18f71d09",
   "metadata": {},
   "outputs": [],
   "source": [
    "X, y = create_sequence(scaled, sequence_length)\n",
    "\n",
    "x_train, x_test, y_train, y_test = train_test_split(X, y, test_size=.2, shuffle=False)\n"
   ]
  },
  {
   "cell_type": "code",
   "execution_count": 12,
   "id": "3668203d",
   "metadata": {},
   "outputs": [],
   "source": [
    "class StockDataset(Dataset):\n",
    "    \n",
    "    def __init__(self, x, y):\n",
    "        self.x = torch.tensor(x, dtype=torch.float)\n",
    "        self.y = torch.tensor(y, dtype=torch.float)\n",
    "    \n",
    "    def __getitem__(self, index):\n",
    "        return self.x[index], self.y[index]\n",
    "\n",
    "    def __len__(self):\n",
    "        return len(self.y)        \n",
    "        \n",
    "    "
   ]
  },
  {
   "cell_type": "code",
   "execution_count": 15,
   "id": "dd84a048",
   "metadata": {},
   "outputs": [],
   "source": [
    "train_dataset = StockDataset(x_train, y_train)\n",
    "test_dataset = StockDataset(x_test, y_test)\n",
    "\n",
    "train_dataloader = DataLoader(train_dataset, batch_size=5, shuffle=True)\n",
    "test_dataloader = DataLoader(test_dataset, batch_size=5, shuffle=True)"
   ]
  },
  {
   "cell_type": "code",
   "execution_count": 30,
   "id": "47bd800a",
   "metadata": {},
   "outputs": [],
   "source": [
    "class LSTMModel(nn.Module):\n",
    "    def __init__(self, input_size=1, hidden_size=64, num_layers=1):\n",
    "        super().__init__()\n",
    "        self.lstm = nn.LSTM(input_size, hidden_size, num_layers, batch_first=True)\n",
    "        self.fc = nn.Linear(hidden_size, 1)\n",
    "    \n",
    "    def forward(self, x):\n",
    "        out, hidden = self.lstm(x)\n",
    "        out = out[:, -1, :]\n",
    "        return self.fc(out)\n",
    "        "
   ]
  },
  {
   "cell_type": "code",
   "execution_count": 39,
   "id": "98e29195",
   "metadata": {},
   "outputs": [
    {
     "name": "stdout",
     "output_type": "stream",
     "text": [
      "loss in epoch 10, loss 0.01331\n",
      "loss in epoch 20, loss 0.00883\n",
      "loss in epoch 30, loss 0.00684\n",
      "loss in epoch 40, loss 0.00554\n",
      "loss in epoch 50, loss 0.00610\n",
      "loss in epoch 60, loss 0.00531\n",
      "loss in epoch 70, loss 0.00448\n",
      "loss in epoch 80, loss 0.00445\n",
      "loss in epoch 90, loss 0.00379\n",
      "loss in epoch 100, loss 0.00326\n"
     ]
    }
   ],
   "source": [
    "model = LSTMModel()\n",
    "criterion = nn.MSELoss()\n",
    "optimizer = torch.optim.Adam(model.parameters(), lr=0.001)\n",
    "\n",
    "\n",
    "epochs = 100\n",
    "for epoch in range(epochs):\n",
    "    model.train()\n",
    "    total_loss = 0\n",
    "    for x_batch, y_batch in train_dataloader:\n",
    "        out = model(x_batch)\n",
    "        loss = criterion(out, y_batch)\n",
    "        #print(f' x is {x_batch} , shape is {x_batch.shape}')\n",
    "        optimizer.zero_grad()\n",
    "        loss.backward()\n",
    "        optimizer.step()\n",
    "        total_loss += loss.item()\n",
    "    if (epoch + 1) % 10 == 0:\n",
    "        print(f\"loss in epoch {epoch + 1}, loss {total_loss/len(train_dataloader):.5f}\")    \n",
    "    "
   ]
  },
  {
   "cell_type": "code",
   "execution_count": 25,
   "id": "ed0a959c",
   "metadata": {},
   "outputs": [
    {
     "data": {
      "text/plain": [
       "tensor([[2],\n",
       "        [0],\n",
       "        [1]])"
      ]
     },
     "execution_count": 25,
     "metadata": {},
     "output_type": "execute_result"
    }
   ],
   "source": [
    "#sample para entender x[:, -1, :]\n",
    "\n",
    "a = torch.tensor([\n",
    "    [[2], [1], [2]],\n",
    "    [[2], [4], [0]],\n",
    "    [[2], [4], [1]]\n",
    "])\n",
    "\n",
    "a[:, -1, :]\n"
   ]
  },
  {
   "cell_type": "code",
   "execution_count": null,
   "id": "4924975a",
   "metadata": {},
   "outputs": [],
   "source": []
  }
 ],
 "metadata": {
  "kernelspec": {
   "display_name": "dsroad",
   "language": "python",
   "name": "python3"
  },
  "language_info": {
   "codemirror_mode": {
    "name": "ipython",
    "version": 3
   },
   "file_extension": ".py",
   "mimetype": "text/x-python",
   "name": "python",
   "nbconvert_exporter": "python",
   "pygments_lexer": "ipython3",
   "version": "3.13.3"
  }
 },
 "nbformat": 4,
 "nbformat_minor": 5
}
