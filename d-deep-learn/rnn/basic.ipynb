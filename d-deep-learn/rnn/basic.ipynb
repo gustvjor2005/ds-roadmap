{
 "cells": [
  {
   "cell_type": "markdown",
   "id": "1f2d06e6",
   "metadata": {},
   "source": [
    "RNN and LSTM \n",
    "\n",
    "resources:\n",
    "\n",
    "https://colah.github.io/posts/2015-08-Understanding-LSTMs/\n",
    "\n",
    "https://stanford.edu/~shervine/teaching/cs-229/cheatsheet-deep-learning#nn\n"
   ]
  },
  {
   "cell_type": "code",
   "execution_count": 1,
   "id": "703e47ff",
   "metadata": {},
   "outputs": [
    {
     "name": "stdout",
     "output_type": "stream",
     "text": [
      "hello world\n"
     ]
    }
   ],
   "source": [
    "print('hello world')"
   ]
  }
 ],
 "metadata": {
  "kernelspec": {
   "display_name": "dsroad",
   "language": "python",
   "name": "python3"
  },
  "language_info": {
   "codemirror_mode": {
    "name": "ipython",
    "version": 3
   },
   "file_extension": ".py",
   "mimetype": "text/x-python",
   "name": "python",
   "nbconvert_exporter": "python",
   "pygments_lexer": "ipython3",
   "version": "3.13.3"
  }
 },
 "nbformat": 4,
 "nbformat_minor": 5
}
