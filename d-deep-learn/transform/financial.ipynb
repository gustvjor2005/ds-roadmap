{
 "cells": [
  {
   "cell_type": "markdown",
   "id": "9a325ba0",
   "metadata": {},
   "source": [
    "### Transformer for prediction \n",
    " The goal is to predict whether the next X(x=6)-minute close of BAP will be higher than the current close, and to feel first-hand how self-attention:\n",
    "\n",
    "**Puntos clave en Transformers:**\n",
    "\n",
    "- **B, L, D**\n",
    "- Los más importantes:\n",
    "  - **L** es la longitud de secuencia\n",
    "  - **D** es el tamaño del embedding o los features que tenga el caso de uso\n",
    "\n",
    "---\n",
    "\n",
    "- **L** para este ejemplo es el tamaño de la secuencia de intervalos diarios,  \n",
    "  en el ejemplo se toman diferentes secuencias de forma aleatoria.\n",
    "- **D** es el número de features: price closed, volumen, etc.\n",
    "\n",
    "---\n",
    "\n",
    "**En el dataset tiene la forma `29x49x5`:**\n",
    "\n",
    "- 29 es el número de días útiles de trading\n",
    "- 49 es la cantidad de intervalos diarios (bars),  \n",
    "  o sea, número máximo de intervalos en un día.  \n",
    "  Para el entrenamiento se toma por ejemplo una secuencia fija de 32  \n",
    "  pero se van extrayendo de forma aleatoria de los 49\n",
    "  (considere que para este caso cada bar equivale a 2min)\n",
    "- 5 cantidad"
   ]
  },
  {
   "cell_type": "code",
   "execution_count": 27,
   "id": "5575a31a",
   "metadata": {},
   "outputs": [],
   "source": [
    "import torch\n",
    "import torch.nn as nn\n",
    "import torch.nn.functional as F\n",
    "from torch.utils.data import DataLoader, Dataset\n",
    "import math\n",
    "import matplotlib.pyplot as plt\n",
    "import yfinance as yf, pandas as pd, torch, numpy as np"
   ]
  },
  {
   "cell_type": "code",
   "execution_count": 28,
   "id": "048378de",
   "metadata": {},
   "outputs": [],
   "source": [
    "class SelfAttention(nn.Module):\n",
    "\n",
    "    def __init__(self, d: int):\n",
    "        super().__init__()\n",
    "        self.q = nn.Linear(d, d, bias=False)\n",
    "        self.k = nn.Linear(d, d, bias=False)\n",
    "        self.v = nn.Linear(d, d, bias=False)\n",
    "        self.scale = math.sqrt(d)\n",
    "\n",
    "    def forward(self, x):\n",
    "        Q = self.q(x)\n",
    "        K = self.q(x)\n",
    "        V = self.q(x)\n",
    "        score = Q @ K.transpose(-2, -1) / self.scale  # BxLxL\n",
    "        attn_w = F.softmax(score, dim=-1)\n",
    "        context = attn_w @ V\n",
    "        return context, attn_w\n",
    "\n",
    "class FeedForward(nn.Module):\n",
    "\n",
    "    def __init__(self, d: int, f: int):\n",
    "        super().__init__()\n",
    "        self.l1 = nn.Linear(d, f)\n",
    "        self.l2 = nn.Linear(f, d)\n",
    "\n",
    "    def forward(self, x):\n",
    "        return self.l2(F.gelu(self.l1(x)))"
   ]
  },
  {
   "cell_type": "code",
   "execution_count": 29,
   "id": "5d80e589",
   "metadata": {},
   "outputs": [],
   "source": [
    "class EncoderLayer(nn.Module):\n",
    "\n",
    "    def __init__(self, d: int, d_f: int):\n",
    "        super().__init__()\n",
    "        self.attn = SelfAttention(d)\n",
    "        self.norm1 = nn.LayerNorm(d)\n",
    "        self.ff = FeedForward(d, d_f)\n",
    "        self.norm2 = nn.LayerNorm(d)\n",
    "\n",
    "    def forward(self, x, return_attention=False):\n",
    "        context, atten = self.attn(x)\n",
    "        x = self.norm1(x + context)\n",
    "        x = self.norm2(x + self.ff(x))\n",
    "        \n",
    "        return (x, atten if return_attention else x)"
   ]
  },
  {
   "cell_type": "code",
   "execution_count": 30,
   "id": "f866db65",
   "metadata": {},
   "outputs": [],
   "source": [
    "class FinanceTransformer(nn.Module):\n",
    "\n",
    "    def __init__(self, in_dim=5, d=32, d_f=64):\n",
    "        super().__init__()\n",
    "        self.proj = nn.Linear(in_dim, d)\n",
    "        self.enc = EncoderLayer(d, d_f)\n",
    "        self.cls = nn.Linear(d, 1)\n",
    "\n",
    "    def forward(self, x, return_attention=False):\n",
    "        x = self.proj(x)\n",
    "        x, attn = self.enc(x, return_attention=True)\n",
    "        logits = self.cls(x).squeeze(-1)\n",
    "\n",
    "        return (logits, attn) if return_attention else logits"
   ]
  },
  {
   "cell_type": "code",
   "execution_count": 31,
   "id": "cacbc464",
   "metadata": {},
   "outputs": [
    {
     "name": "stderr",
     "output_type": "stream",
     "text": [
      "/tmp/ipykernel_15154/1497174375.py:4: FutureWarning: YF.download() has changed argument auto_adjust default to True\n",
      "  df = yf.download(TICKER, period=PERIOD, interval=INTERVAL, progress=False)\n"
     ]
    }
   ],
   "source": [
    "TICKER   = \"BAP\"\n",
    "PERIOD   = \"60d\"\n",
    "INTERVAL = \"2m\"\n",
    "df = yf.download(TICKER, period=PERIOD, interval=INTERVAL, progress=False)\n",
    "df = df.between_time(\"09:30\", \"16:00\")  # Regular trading hours"
   ]
  },
  {
   "cell_type": "code",
   "execution_count": 32,
   "id": "298e8eeb",
   "metadata": {},
   "outputs": [],
   "source": [
    "df[\"label\"] = (df[\"Close\"].shift(-3) > df[\"Close\"]).astype(int)\n",
    "df.dropna(inplace=True)"
   ]
  },
  {
   "cell_type": "code",
   "execution_count": 33,
   "id": "fecf76b1",
   "metadata": {},
   "outputs": [],
   "source": [
    "# numero real de dias de trading\n",
    "steps_per_day = int(len(df) / len(df.index.normalize().unique()))\n",
    "n_days = len(df) // steps_per_day"
   ]
  },
  {
   "cell_type": "code",
   "execution_count": 34,
   "id": "ea4b092b",
   "metadata": {},
   "outputs": [],
   "source": [
    "# Features: OHLCV\n",
    "cols = [\"Open\", \"High\", \"Low\", \"Close\", \"Volume\"]\n",
    "X = df[cols].values[:n_days * steps_per_day].reshape(n_days, steps_per_day, len(cols))\n",
    "y = df[\"label\"].values[:n_days * steps_per_day].reshape(n_days, steps_per_day)"
   ]
  },
  {
   "cell_type": "code",
   "execution_count": 35,
   "id": "4be90929",
   "metadata": {},
   "outputs": [],
   "source": [
    "from sklearn.preprocessing import StandardScaler\n",
    "\n",
    "scaler = StandardScaler()\n",
    "X = scaler.fit_transform(X.reshape(-1, len(cols))).reshape(X.shape)"
   ]
  },
  {
   "cell_type": "code",
   "execution_count": 36,
   "id": "ac3f5d13",
   "metadata": {},
   "outputs": [],
   "source": [
    "device = \"cuda\" if torch.cuda.is_available() else \"cpu\"\n",
    "model = FinanceTransformer().to(device)\n",
    "optimizer = torch.optim.Adam(model.parameters(), lr=1e-3)\n",
    "loss_fn = nn.BCEWithLogitsLoss()"
   ]
  },
  {
   "cell_type": "code",
   "execution_count": 37,
   "id": "e24a63e2",
   "metadata": {},
   "outputs": [
    {
     "name": "stdout",
     "output_type": "stream",
     "text": [
      "Epoch 1 loss: 0.6976\n",
      "Epoch 2 loss: 0.6867\n",
      "Epoch 3 loss: 0.6796\n",
      "Epoch 4 loss: 0.6789\n",
      "Epoch 5 loss: 0.6632\n",
      "Epoch 6 loss: 0.6679\n",
      "Epoch 7 loss: 0.6691\n",
      "Epoch 8 loss: 0.6744\n",
      "Epoch 9 loss: 0.6677\n",
      "Epoch 10 loss: 0.6700\n",
      "Epoch 11 loss: 0.6639\n",
      "Epoch 12 loss: 0.6738\n",
      "Epoch 13 loss: 0.6535\n",
      "Epoch 14 loss: 0.6612\n",
      "Epoch 15 loss: 0.6532\n",
      "Epoch 16 loss: 0.6726\n",
      "Epoch 17 loss: 0.6541\n",
      "Epoch 18 loss: 0.6397\n",
      "Epoch 19 loss: 0.6500\n",
      "Epoch 20 loss: 0.6564\n",
      "Epoch 21 loss: 0.6541\n",
      "Epoch 22 loss: 0.6522\n",
      "Epoch 23 loss: 0.6550\n",
      "Epoch 24 loss: 0.6542\n",
      "Epoch 25 loss: 0.6479\n",
      "Epoch 26 loss: 0.6428\n",
      "Epoch 27 loss: 0.6435\n",
      "Epoch 28 loss: 0.6535\n",
      "Epoch 29 loss: 0.6374\n",
      "Epoch 30 loss: 0.6363\n",
      "Epoch 31 loss: 0.6512\n",
      "Epoch 32 loss: 0.6370\n",
      "Epoch 33 loss: 0.6443\n",
      "Epoch 34 loss: 0.6393\n",
      "Epoch 35 loss: 0.6287\n",
      "Epoch 36 loss: 0.6578\n",
      "Epoch 37 loss: 0.6389\n",
      "Epoch 38 loss: 0.6376\n",
      "Epoch 39 loss: 0.6434\n",
      "Epoch 40 loss: 0.6366\n",
      "Epoch 41 loss: 0.6352\n",
      "Epoch 42 loss: 0.6409\n",
      "Epoch 43 loss: 0.6239\n",
      "Epoch 44 loss: 0.6367\n",
      "Epoch 45 loss: 0.6357\n",
      "Epoch 46 loss: 0.6372\n",
      "Epoch 47 loss: 0.6243\n",
      "Epoch 48 loss: 0.6387\n",
      "Epoch 49 loss: 0.6373\n",
      "Epoch 50 loss: 0.6368\n",
      "Epoch 51 loss: 0.6375\n",
      "Epoch 52 loss: 0.6287\n",
      "Epoch 53 loss: 0.6296\n",
      "Epoch 54 loss: 0.6403\n",
      "Epoch 55 loss: 0.6255\n",
      "Epoch 56 loss: 0.6325\n",
      "Epoch 57 loss: 0.6285\n",
      "Epoch 58 loss: 0.6236\n",
      "Epoch 59 loss: 0.6518\n",
      "Epoch 60 loss: 0.6418\n",
      "Epoch 61 loss: 0.6308\n",
      "Epoch 62 loss: 0.6261\n",
      "Epoch 63 loss: 0.6434\n",
      "Epoch 64 loss: 0.6284\n"
     ]
    }
   ],
   "source": [
    "# usamos un tamaño de sequencia de 32\n",
    "# sin embargo el tamaño maximo puede ser el numero de pasos por dia \n",
    "seq_len = 32  \n",
    "\n",
    "for epoch in range(64):\n",
    "    epoch_loss = 0\n",
    "    for i in range(n_days):\n",
    "        # Pick random window of length seq_len\n",
    "        k = np.random.randint(0, steps_per_day - seq_len - 3)\n",
    "        xb = torch.tensor(X[i:i+1, k:k+seq_len, :], dtype=torch.float32).to(device)\n",
    "        yb = torch.tensor(y[i:i+1, k:k+seq_len], dtype=torch.float32).to(device)\n",
    "\n",
    "        logits, _ = model(xb, return_attention=True)\n",
    "        loss = loss_fn(logits, yb)\n",
    "        optimizer.zero_grad()\n",
    "        loss.backward()\n",
    "        optimizer.step()\n",
    "        epoch_loss += loss.item()\n",
    "    print(f\"Epoch {epoch+1} loss: {epoch_loss / n_days:.4f}\")"
   ]
  },
  {
   "cell_type": "code",
   "execution_count": null,
   "id": "70ebd44a",
   "metadata": {},
   "outputs": [],
   "source": []
  },
  {
   "cell_type": "code",
   "execution_count": null,
   "id": "0b47aa58",
   "metadata": {},
   "outputs": [],
   "source": []
  }
 ],
 "metadata": {
  "kernelspec": {
   "display_name": "dsroad",
   "language": "python",
   "name": "python3"
  },
  "language_info": {
   "codemirror_mode": {
    "name": "ipython",
    "version": 3
   },
   "file_extension": ".py",
   "mimetype": "text/x-python",
   "name": "python",
   "nbconvert_exporter": "python",
   "pygments_lexer": "ipython3",
   "version": "3.13.3"
  }
 },
 "nbformat": 4,
 "nbformat_minor": 5
}
