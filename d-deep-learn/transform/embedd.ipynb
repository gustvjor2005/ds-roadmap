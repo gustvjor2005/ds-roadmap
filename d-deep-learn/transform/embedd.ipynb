{
 "cells": [
  {
   "cell_type": "markdown",
   "id": "e8673626",
   "metadata": {},
   "source": [
    "## Work embedding\n",
    "\n",
    "sample taken from https://docs.pytorch.org/tutorials/beginner/nlp/word_embeddings_tutorial.html\n",
    "\n",
    "puntos clave:\n",
    "\n",
    "> Word embedding es la representación semantica de una palabra\n",
    "en vez de usar one-hot vector\n"
   ]
  },
  {
   "cell_type": "code",
   "execution_count": 1,
   "id": "5575a31a",
   "metadata": {},
   "outputs": [
    {
     "data": {
      "text/plain": [
       "<torch._C.Generator at 0x7f1925258e50>"
      ]
     },
     "execution_count": 1,
     "metadata": {},
     "output_type": "execute_result"
    }
   ],
   "source": [
    "import torch\n",
    "import torch.nn as nn\n",
    "import torch.nn.functional as F\n",
    "import torch.optim as optim\n",
    "\n",
    "torch.manual_seed(1)"
   ]
  },
  {
   "cell_type": "code",
   "execution_count": 2,
   "id": "2f531615",
   "metadata": {},
   "outputs": [
    {
     "name": "stdout",
     "output_type": "stream",
     "text": [
      "tensor([[-0.1661, -1.5228,  0.3817, -1.0276, -0.5631]],\n",
      "       grad_fn=<EmbeddingBackward0>)\n"
     ]
    }
   ],
   "source": [
    "word_to_ix = {\"hello\": 0, \"World\":1}\n",
    "word_to_ix[\"World\"]\n",
    "\n",
    "# 2 palabras en el vocabulario\n",
    "# 5 tamaño del embedding de las palabras\n",
    "embedd = nn.Embedding(2, 5)\n",
    "lookup_tensor = torch.tensor([word_to_ix[\"World\"]], dtype=torch.long)\n",
    "worl_embedd = embedd(lookup_tensor)\n",
    "print(worl_embedd)"
   ]
  },
  {
   "cell_type": "code",
   "execution_count": 3,
   "id": "d312f8c0",
   "metadata": {},
   "outputs": [
    {
     "data": {
      "text/plain": [
       "133"
      ]
     },
     "execution_count": 3,
     "metadata": {},
     "output_type": "execute_result"
    }
   ],
   "source": [
    "CONTEXT_SIZE = 2\n",
    "EMBEDDING_DIM = 10\n",
    "PATH_FILE = '/mnt/c/Users/gustavo.choque/Desktop/incidents.txt'\n",
    "with open(PATH_FILE, 'r', encoding='utf-8') as file:\n",
    "    test_sentence = file.read().strip()\n",
    "\n",
    "test_sentence = test_sentence.split()\n",
    "\n",
    "# aca se crear una tupla ('dato1', 'dato2')\n",
    "# la tupla es inmutable y de longitud fija\n",
    "ngrams = [([test_sentence[i - j - 1] for j in range(CONTEXT_SIZE)], test_sentence[i])\n",
    "       for i in range(CONTEXT_SIZE, len(test_sentence))]\n",
    "\n",
    "#print(test_sentence)\n",
    "\n",
    "vocab = set(test_sentence)\n",
    "\n",
    "#agrega una enumración a cada elemento de un arreglo\n",
    "#retorna un type Dict diccionary\n",
    "word_to_ix = {word: i for i, word in enumerate(vocab)}    \n",
    "word_to_ix[\"mismo\"]\n"
   ]
  },
  {
   "cell_type": "code",
   "execution_count": 6,
   "id": "599f42da",
   "metadata": {},
   "outputs": [
    {
     "name": "stdout",
     "output_type": "stream",
     "text": [
      "[188279.96473026276, 188279.3112397194, 188278.68798160553, 188278.09405374527, 188277.52679777145, 188276.98608112335, 188276.46785354614, 188275.9724597931, 188275.49803256989, 188275.0440711975]\n"
     ]
    },
    {
     "data": {
      "text/plain": [
       "tensor([ 0.1714,  1.8895, -0.4044,  1.0543,  1.4037, -0.2143,  1.0520,  0.4427,\n",
       "         0.3797,  0.4243], grad_fn=<SelectBackward0>)"
      ]
     },
     "execution_count": 6,
     "metadata": {},
     "output_type": "execute_result"
    }
   ],
   "source": [
    "class NGramLanguageModeler(nn.Module):\n",
    "    \n",
    "    def __init__(self, vocab_size, embedding_dim, context_size):\n",
    "        super(NGramLanguageModeler, self).__init__()\n",
    "        self.embeddings = nn.Embedding(vocab_size, embedding_dim)\n",
    "        self.linear1 = nn.Linear(context_size * embedding_dim, 128)\n",
    "        self.linear2 = nn.Linear(128, vocab_size)\n",
    "    \n",
    "    def forward(self, inputs):\n",
    "        embeds = self.embeddings(inputs).view((1, -1))\n",
    "        out = F.relu(self.linear1(embeds))\n",
    "        out = self.linear2(out)\n",
    "        log_props = F.log_softmax(out, dim=1)\n",
    "        return log_props\n",
    "\n",
    "losses = []\n",
    "loss_function = nn.L1Loss()\n",
    "model = NGramLanguageModeler(len(vocab), EMBEDDING_DIM, CONTEXT_SIZE)\n",
    "optimizer = optim.SGD(model.parameters(), lr=0.001)\n",
    "\n",
    "for epoch in range(10):\n",
    "    total_loss = 0\n",
    "    for context, target in ngrams:\n",
    "        context_ids = torch.tensor([word_to_ix[w] for w in context], \n",
    "                                   dtype=torch.long)\n",
    "        model.zero_grad()\n",
    "        \n",
    "        #forwad pass\n",
    "        log_probs = model(context_ids)\n",
    "        \n",
    "        #loss function \n",
    "        loss = loss_function(log_probs, torch.tensor([word_to_ix[target]], \n",
    "                                                     dtype=torch.long))\n",
    "        loss.backward()\n",
    "        optimizer.step()\n",
    "        \n",
    "        total_loss += loss.item()\n",
    "    losses.append(total_loss)\n",
    "\n",
    "print(losses)\n",
    "model.embeddings.weight[word_to_ix['mismo']]\n",
    "        "
   ]
  },
  {
   "cell_type": "code",
   "execution_count": null,
   "id": "0c71a804",
   "metadata": {},
   "outputs": [
    {
     "name": "stdout",
     "output_type": "stream",
     "text": [
      "torch.Size([81, 5])\n"
     ]
    },
    {
     "data": {
      "text/plain": [
       "torch.Size([2, 1, 3])"
      ]
     },
     "execution_count": 35,
     "metadata": {},
     "output_type": "execute_result"
    }
   ],
   "source": [
    "# ref https://docs.pytorch.org/docs/stable/generated/torch.nn.Linear.html#torch.nn.Linear\n",
    "# 3 cant. de features de entrada\n",
    "# 5 cant. de features de salida\n",
    "m = nn.Linear(3, 5)\n",
    "\n",
    "#input is 81x3\n",
    "input_sample = torch.randn(81, 3)\n",
    "input_sample.shape\n",
    "\n",
    "#output is 81x5\n",
    "#A transpuesta tiene forma 3x5\n",
    "#A tiene forma 5x3 , según doc de pytorch\n",
    "output = m(input_sample)\n",
    "print(output.shape)\n",
    "\n",
    "#embedding\n",
    "#10 es el tamaño del diccionario\n",
    "#3 es el tamño del embedding\n",
    "embedd = nn.Embedding(10, 3)\n",
    "#size is 2x4\n",
    "#tiene 2 samples de 1 indice(s)\n",
    "inputEmb = torch.LongTensor([[2], [4]])\n",
    "\n",
    "outEmb = embedd(inputEmb)\n",
    "#2 samples con 1 indeice pero que ahora \n",
    "#tiene el embedding de 3\n",
    "outEmb.size()\n"
   ]
  },
  {
   "cell_type": "code",
   "execution_count": 12,
   "id": "f2f91d75",
   "metadata": {},
   "outputs": [
    {
     "data": {
      "text/plain": [
       "torch.Tensor"
      ]
     },
     "execution_count": 12,
     "metadata": {},
     "output_type": "execute_result"
    }
   ],
   "source": [
    "#El View aplana el tensor\n",
    "sample = torch.randn(5, 3)\n",
    "a = sample.view((1,-1))\n",
    "type(a)\n"
   ]
  },
  {
   "cell_type": "code",
   "execution_count": null,
   "id": "048378de",
   "metadata": {},
   "outputs": [
    {
     "data": {
      "text/plain": [
       "list"
      ]
     },
     "execution_count": 16,
     "metadata": {},
     "output_type": "execute_result"
    }
   ],
   "source": []
  },
  {
   "cell_type": "code",
   "execution_count": null,
   "id": "e9ef2988",
   "metadata": {},
   "outputs": [],
   "source": []
  },
  {
   "cell_type": "code",
   "execution_count": null,
   "id": "705cc81a",
   "metadata": {},
   "outputs": [],
   "source": []
  },
  {
   "cell_type": "code",
   "execution_count": null,
   "id": "2b419534",
   "metadata": {},
   "outputs": [],
   "source": []
  },
  {
   "cell_type": "code",
   "execution_count": null,
   "id": "57276aaa",
   "metadata": {},
   "outputs": [],
   "source": []
  }
 ],
 "metadata": {
  "kernelspec": {
   "display_name": "dsroad",
   "language": "python",
   "name": "python3"
  },
  "language_info": {
   "codemirror_mode": {
    "name": "ipython",
    "version": 3
   },
   "file_extension": ".py",
   "mimetype": "text/x-python",
   "name": "python",
   "nbconvert_exporter": "python",
   "pygments_lexer": "ipython3",
   "version": "3.13.3"
  }
 },
 "nbformat": 4,
 "nbformat_minor": 5
}
