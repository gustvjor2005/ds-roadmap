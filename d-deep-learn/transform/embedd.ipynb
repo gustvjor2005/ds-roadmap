{
 "cells": [
  {
   "cell_type": "markdown",
   "id": "e8673626",
   "metadata": {},
   "source": [
    "## Work embedding\n",
    "\n",
    "sample taken from https://docs.pytorch.org/tutorials/beginner/nlp/word_embeddings_tutorial.html\n",
    "\n",
    "puntos clave:\n",
    "\n",
    "> Word embedding es la representación semantica de una palabra\n",
    "en vez de usar one-hot vector\n"
   ]
  },
  {
   "cell_type": "code",
   "execution_count": 1,
   "id": "5575a31a",
   "metadata": {},
   "outputs": [
    {
     "data": {
      "text/plain": [
       "<torch._C.Generator at 0x7fc63c269790>"
      ]
     },
     "execution_count": 1,
     "metadata": {},
     "output_type": "execute_result"
    }
   ],
   "source": [
    "import torch\n",
    "import torch.nn as nn\n",
    "import torch.nn.functional as F\n",
    "import torch.optim as optim\n",
    "\n",
    "torch.manual_seed(1)"
   ]
  },
  {
   "cell_type": "code",
   "execution_count": 2,
   "id": "2f531615",
   "metadata": {},
   "outputs": [
    {
     "name": "stdout",
     "output_type": "stream",
     "text": [
      "tensor([[-0.1661, -1.5228,  0.3817, -1.0276, -0.5631]],\n",
      "       grad_fn=<EmbeddingBackward0>)\n"
     ]
    }
   ],
   "source": [
    "word_to_ix = {\"hello\": 0, \"World\":1}\n",
    "word_to_ix[\"World\"]\n",
    "\n",
    "# 2 palabras en el vocabulario\n",
    "# 5 tamaño del embedding de las palabras\n",
    "embedd = nn.Embedding(2, 5)\n",
    "lookup_tensor = torch.tensor([word_to_ix[\"World\"]], dtype=torch.long)\n",
    "worl_embedd = embedd(lookup_tensor)\n",
    "print(worl_embedd)"
   ]
  },
  {
   "cell_type": "code",
   "execution_count": 4,
   "id": "d312f8c0",
   "metadata": {},
   "outputs": [
    {
     "name": "stdout",
     "output_type": "stream",
     "text": [
      "[(['reporte', 'incidents'], 'técnico'), (['técnico', 'reporte'], '10.01.2025'), (['10.01.2025', 'técnico'], '-'), (['-', '10.01.2025'], 'Cuando'), (['Cuando', '-'], 'tuve'), (['tuve', 'Cuando'], 'a'), (['a', 'tuve'], 'cargo'), (['cargo', 'a'], 'una'), (['una', 'cargo'], 'historia'), (['historia', 'una'], 'para'), (['para', 'historia'], 'crear'), (['crear', 'para'], 'el'), (['el', 'crear'], 'cascaron'), (['cascaron', 'el'], 'de'), (['de', 'cascaron'], 'un'), (['un', 'de'], 'ms'), (['ms', 'un'], ','), ([',', 'ms'], 'en'), (['en', ','], 'este'), (['este', 'en'], 'caso'), (['caso', 'este'], 'de'), (['de', 'caso'], 'Account'), (['Account', 'de'], 'Charge'), (['Charge', 'Account'], ','), ([',', 'Charge'], 'tuve'), (['tuve', ','], 'varios'), (['varios', 'tuve'], 'inconvenientes'), (['inconvenientes', 'varios'], 'ahora'), (['ahora', 'inconvenientes'], 'paso'), (['paso', 'ahora'], 'a'), (['a', 'paso'], 'detallar'), (['detallar', 'a'], 'cuales'), (['cuales', 'detallar'], 'fueron'), (['fueron', 'cuales'], '.'), (['.', 'fueron'], 'Primero'), (['Primero', '.'], ','), ([',', 'Primero'], 'para'), (['para', ','], 'crear'), (['crear', 'para'], 'un'), (['un', 'crear'], 'cascaron'), (['cascaron', 'un'], 'necesita'), (['necesita', 'cascaron'], 'tener'), (['tener', 'necesita'], 'una'), (['una', 'tener'], 'platilla'), (['platilla', 'una'], 'de'), (['de', 'platilla'], 'ms'), (['ms', 'de'], ','), ([',', 'ms'], 'encontré'), (['encontré', ','], 'el'), (['el', 'encontré'], 'repo'), (['repo', 'el'], 'de'), (['de', 'repo'], 'plantilla'), (['plantilla', 'de'], ','), ([',', 'plantilla'], 'pero'), (['pero', ','], 'solo'), (['solo', 'pero'], 'me'), (['me', 'solo'], 'sirvio'), (['sirvio', 'me'], 'como'), (['como', 'sirvio'], 'guia'), (['guia', 'como'], ','), ([',', 'guia'], 'al'), (['al', ','], 'fina'), (['fina', 'al'], 'tuve'), (['tuve', 'fina'], 'que'), (['que', 'tuve'], 'copiar'), (['copiar', 'que'], 'y'), (['y', 'copiar'], 'pegar'), (['pegar', 'y'], 'los'), (['los', 'pegar'], 'archivos'), (['archivos', 'los'], 'al'), (['al', 'archivos'], 'nuevo'), (['nuevo', 'al'], 'projecto'), (['projecto', 'nuevo'], 'que'), (['que', 'projecto'], 'habia'), (['habia', 'que'], 'creado.'), (['creado.', 'habia'], 'Segundo'), (['Segundo', 'creado.'], ','), ([',', 'Segundo'], 'este'), (['este', ','], 'ms'), (['ms', 'este'], 'tenia'), (['tenia', 'ms'], 'que'), (['que', 'tenia'], 'conectarse'), (['conectarse', 'que'], 'a'), (['a', 'conectarse'], 'una'), (['una', 'a'], 'bd'), (['bd', 'una'], 'de'), (['de', 'bd'], 'oracle'), (['oracle', 'de'], ','), ([',', 'oracle'], 'y'), (['y', ','], 'segun'), (['segun', 'y'], 'el'), (['el', 'segun'], 'estandar'), (['estandar', 'el'], 'del'), (['del', 'estandar'], 'aepe'), (['aepe', 'del'], ','), ([',', 'aepe'], 'tenia'), (['tenia', ','], 'que'), (['que', 'tenia'], 'usar'), (['usar', 'que'], 'un'), (['un', 'usar'], 'librería'), (['librería', 'un'], 'que'), (['que', 'librería'], 'se'), (['se', 'que'], 'llama'), (['llama', 'se'], 'el'), (['el', 'llama'], 'aepe'), (['aepe', 'el'], 'commons'), (['commons', 'aepe'], 'configurations.'), (['configurations.', 'commons'], 'El'), (['El', 'configurations.'], 'problema'), (['problema', 'El'], 'era'), (['era', 'problema'], 'que'), (['que', 'era'], 'cuando'), (['cuando', 'que'], 'iniciaba'), (['iniciaba', 'cuando'], 'el'), (['el', 'iniciaba'], 'ms'), (['ms', 'el'], 'localmente'), (['localmente', 'ms'], 'este'), (['este', 'localmente'], 'no'), (['no', 'este'], 'lo'), (['lo', 'no'], 'hacia'), (['hacia', 'lo'], 'porque'), (['porque', 'hacia'], 'no'), (['no', 'porque'], 'entraba'), (['entraba', 'no'], 'un'), (['un', 'entraba'], 'valor'), (['valor', 'un'], 'de'), (['de', 'valor'], 'conexion'), (['conexion', 'de'], 'llamado'), (['llamado', 'conexion'], 'spring.oracle.hibernate.dialect'), (['spring.oracle.hibernate.dialect', 'llamado'], ','), ([',', 'spring.oracle.hibernate.dialect'], 'al'), (['al', ','], 'principio'), (['principio', 'al'], 'pense'), (['pense', 'principio'], 'que'), (['que', 'pense'], 'este'), (['este', 'que'], 'error'), (['error', 'este'], 'era'), (['era', 'error'], 'porque'), (['porque', 'era'], 'este'), (['este', 'porque'], 'valor'), (['valor', 'este'], 'no'), (['no', 'valor'], 'estaba'), (['estaba', 'no'], 'correctamente'), (['correctamente', 'estaba'], 'definido'), (['definido', 'correctamente'], 'en'), (['en', 'definido'], 'el'), (['el', 'en'], 'vault'), (['vault', 'el'], 'dado'), (['dado', 'vault'], 'que'), (['que', 'dado'], 'el'), (['el', 'que'], 'logs'), (['logs', 'el'], 'del'), (['del', 'logs'], 'ms'), (['ms', 'del'], 'sólo'), (['sólo', 'ms'], 'mencioanda'), (['mencioanda', 'sólo'], 'eso.'), (['eso.', 'mencioanda'], 'Sin'), (['Sin', 'eso.'], 'embargo'), (['embargo', 'Sin'], 'al'), (['al', 'embargo'], 'final'), (['final', 'al'], 'de'), (['de', 'final'], 'cuentas'), (['cuentas', 'de'], 'me'), (['me', 'cuentas'], 'di'), (['di', 'me'], 'con'), (['con', 'di'], 'la'), (['la', 'con'], 'sorpresa'), (['sorpresa', 'la'], 'que'), (['que', 'sorpresa'], 'el'), (['el', 'que'], 'error'), (['error', 'el'], 'era'), (['era', 'error'], 'porque'), (['porque', 'era'], 'el'), (['el', 'porque'], 'ms'), (['ms', 'el'], 'no'), (['no', 'ms'], 'podia'), (['podia', 'no'], 'conectarse'), (['conectarse', 'podia'], 'al'), (['al', 'conectarse'], 'vault.'), (['vault.', 'al'], 'En'), (['En', 'vault.'], 'realidad'), (['realidad', 'En'], 'no'), (['no', 'realidad'], 'tengo'), (['tengo', 'no'], 'pruebas'), (['pruebas', 'tengo'], 'para'), (['para', 'pruebas'], 'demostrar'), (['demostrar', 'para'], 'lo'), (['lo', 'demostrar'], 'que'), (['que', 'lo'], 'digo'), (['digo', 'que'], ','), ([',', 'digo'], 'dado'), (['dado', ','], 'que'), (['que', 'dado'], 'ese'), (['ese', 'que'], 'error'), (['error', 'ese'], '('), (['(', 'error'], 'de'), (['de', '('], 'conexion'), (['conexion', 'de'], ')'), ([')', 'conexion'], 'no'), (['no', ')'], 'se'), (['se', 'no'], 'pintaba'), (['pintaba', 'se'], 'en'), (['en', 'pintaba'], 'los'), (['los', 'en'], 'logs'), (['logs', 'los'], ','), ([',', 'logs'], 'pero'), (['pero', ','], 'tengo'), (['tengo', 'pero'], 'razones'), (['razones', 'tengo'], 'de'), (['de', 'razones'], 'descartes'), (['descartes', 'de'], 'para'), (['para', 'descartes'], 'estar'), (['estar', 'para'], 'seguro'), (['seguro', 'estar'], 'que'), (['que', 'seguro'], 'ese'), (['ese', 'que'], 'fue'), (['fue', 'ese'], 'el'), (['el', 'fue'], 'problema.'), (['problema.', 'el'], 'Procedí'), (['Procedí', 'problema.'], 'a'), (['a', 'Procedí'], 'iniciar'), (['iniciar', 'a'], 'otro'), (['otro', 'iniciar'], 'ms'), (['ms', 'otro'], ','), ([',', 'ms'], 'que'), (['que', ','], 'no'), (['no', 'que'], 'usa'), (['usa', 'no'], 'el'), (['el', 'usa'], 'commons'), (['commons', 'el'], 'configuration'), (['configuration', 'commons'], ','), ([',', 'configuration'], 'localmente'), (['localmente', ','], 'y'), (['y', 'localmente'], 'este'), (['este', 'y'], 'inicio'), (['inicio', 'este'], 'de'), (['de', 'inicio'], 'forma'), (['forma', 'de'], 'satisfactoria'), (['satisfactoria', 'forma'], ','), ([',', 'satisfactoria'], 'lo'), (['lo', ','], 'unico'), (['unico', 'lo'], 'diferente'), (['diferente', 'unico'], 'era'), (['era', 'diferente'], 'que'), (['que', 'era'], 'este'), (['este', 'que'], 'ms'), (['ms', 'este'], 'tenia'), (['tenia', 'ms'], 'un'), (['un', 'tenia'], 'version'), (['version', 'un'], 'de'), (['de', 'version'], 'spring'), (['spring', 'de'], 'más'), (['más', 'spring'], 'reciente.'), (['reciente.', 'más'], 'Entonces'), (['Entonces', 'reciente.'], 'tengo'), (['tengo', 'Entonces'], 'argumentos'), (['argumentos', 'tengo'], 'fuertes'), (['fuertes', 'argumentos'], 'para'), (['para', 'fuertes'], 'pensar'), (['pensar', 'para'], 'que'), (['que', 'pensar'], 'el'), (['el', 'que'], 'problema'), (['problema', 'el'], 'es'), (['es', 'problema'], 'que'), (['que', 'es'], 'el'), (['el', 'que'], 'commons'), (['commons', 'el'], 'configuration'), (['configuration', 'commons'], 'utiliza'), (['utiliza', 'configuration'], 'un'), (['un', 'utiliza'], 'version'), (['version', 'un'], 'de'), (['de', 'version'], 'spring'), (['spring', 'de'], 'boot'), (['boot', 'spring'], '/cloud'), (['/cloud', 'boot'], 'deprecada'), (['deprecada', '/cloud'], 'para'), (['para', 'deprecada'], 'poder'), (['poder', 'para'], 'conectarse'), (['conectarse', 'poder'], 'con'), (['con', 'conectarse'], 'un'), (['un', 'con'], 'vault'), (['vault', 'un'], ';'), ([';', 'vault'], 'asi'), (['asi', ';'], 'se'), (['se', 'asi'], 'hayan'), (['hayan', 'se'], 'agregado'), (['agregado', 'hayan'], 'los'), (['los', 'agregado'], 'certifcados'), (['certifcados', 'los'], 'al'), (['al', 'certifcados'], 'cacerts'), (['cacerts', 'al'], ','), ([',', 'cacerts'], 'vale'), (['vale', ','], 'la'), (['la', 'vale'], 'pena'), (['pena', 'la'], 'aclarar'), (['aclarar', 'pena'], 'que'), (['que', 'aclarar'], 'eso'), (['eso', 'que'], 'fue'), (['fue', 'eso'], 'lo'), (['lo', 'fue'], 'que'), (['que', 'lo'], 'tambien'), (['tambien', 'que'], 'valide'), (['valide', 'tambien'], ','), ([',', 'valide'], 'yo'), (['yo', ','], 'mismo'), (['mismo', 'yo'], 'tuve'), (['tuve', 'mismo'], 'que'), (['que', 'tuve'], 'agregar'), (['agregar', 'que'], 'los'), (['los', 'agregar'], 'certicados'), (['certicados', 'los'], 'del'), (['del', 'certicados'], 'vault'), (['vault', 'del'], '('), (['(', 'vault'], 'de'), (['de', '('], 'aepe'), (['aepe', 'de'], 'al'), (['al', 'aepe'], 'final'), (['final', 'al'], 'cabo'), (['cabo', 'final'], ')'), ([')', 'cabo'], 'mediante'), (['mediante', ')'], 'el'), (['el', 'mediante'], 'key'), (['key', 'el'], 'tool'), (['tool', 'key'], 'pero'), (['pero', 'tool'], 'no'), (['no', 'pero'], 'funciono.'), (['funciono.', 'no'], 'En'), (['En', 'funciono.'], 'conclusión'), (['conclusión', 'En'], ','), ([',', 'conclusión'], 'la'), (['la', ','], 'versión'), (['versión', 'la'], 'del'), (['del', 'versión'], 'spring'), (['spring', 'del'], 'de'), (['de', 'spring'], 'aepe'), (['aepe', 'de'], 'commons'), (['commons', 'aepe'], 'configuration'), (['configuration', 'commons'], 'no'), (['no', 'configuration'], 'es'), (['es', 'no'], 'valida'), (['valida', 'es'], 'para'), (['para', 'valida'], 'poder'), (['poder', 'para'], 'conectarme'), (['conectarme', 'poder'], 'al'), (['al', 'conectarme'], 'vault'), (['vault', 'al'], 'desde'), (['desde', 'vault'], 'un'), (['un', 'desde'], 'maquina'), (['maquina', 'un'], 'virtual'), (['virtual', 'maquina'], 'windows'), (['windows', 'virtual'], '('), (['(', 'windows'], 'la'), (['la', '('], 'vdi'), (['vdi', 'la'], ').'), ([').', 'vdi'], 'Preciso'), (['Preciso', ').'], 'esto'), (['esto', 'Preciso'], 'porque'), (['porque', 'esto'], 'en'), (['en', 'porque'], 'el'), (['el', 'en'], 'ambiente'), (['ambiente', 'el'], 'de'), (['de', 'ambiente'], 'dev'), (['dev', 'de'], 'si'), (['si', 'dev'], 'funciona'), (['funciona', 'si'], 'correctamente'), (['correctamente', 'funciona'], ','), ([',', 'correctamente'], 'es'), (['es', ','], 'probable'), (['probable', 'es'], 'que'), (['que', 'probable'], 'en'), (['en', 'que'], 'dev'), (['dev', 'en'], 'la'), (['la', 'dev'], 'imagen'), (['imagen', 'la'], 'de'), (['de', 'imagen'], 'docker'), (['docker', 'de'], 'que'), (['que', 'docker'], 'usa'), (['usa', 'que'], 'esta'), (['esta', 'usa'], 'preparada'), (['preparada', 'esta'], 'para'), (['para', 'preparada'], 'usar'), (['usar', 'para'], 'esa'), (['esa', 'usar'], 'versión'), (['versión', 'esa'], 'de'), (['de', 'versión'], 'spring'), (['spring', 'de'], 'antigua'), (['antigua', 'spring'], 'para'), (['para', 'antigua'], 'poder'), (['poder', 'para'], 'conectarme'), (['conectarme', 'poder'], 'al'), (['al', 'conectarme'], 'vault.'), (['vault.', 'al'], 'Ahora'), (['Ahora', 'vault.'], 'se'), (['se', 'Ahora'], 'entiende'), (['entiende', 'se'], 'porque'), (['porque', 'entiende'], 'los'), (['los', 'porque'], 'muchachos'), (['muchachos', 'los'], 'tienes'), (['tienes', 'muchachos'], 'que'), (['que', 'tienes'], 'agregar'), (['agregar', 'que'], 'en'), (['en', 'agregar'], 'el'), (['el', 'en'], 'yml'), (['yml', 'el'], 'las'), (['las', 'yml'], 'propiedades'), (['propiedades', 'las'], 'de'), (['de', 'propiedades'], 'conexion'), (['conexion', 'de'], 'a'), (['a', 'conexion'], 'la'), (['la', 'a'], 'bd'), (['bd', 'la'], 'oracle'), (['oracle', 'bd'], 'cuando'), (['cuando', 'oracle'], 'levantan'), (['levantan', 'cuando'], 'su'), (['su', 'levantan'], 'ms'), (['ms', 'su'], 'en'), (['en', 'ms'], 'entorno'), (['entorno', 'en'], 'local.'), (['local.', 'entorno'], '-'), (['-', 'local.'], 'Otro'), (['Otro', '-'], 'problema'), (['problema', 'Otro'], 'que'), (['que', 'problema'], 'identifico'), (['identifico', 'que'], 'mi'), (['mi', 'identifico'], 'colega'), (['colega', 'mi'], ','), ([',', 'colega'], 'porque'), (['porque', ','], 'hubo'), (['hubo', 'porque'], 'un'), (['un', 'hubo'], 'momento'), (['momento', 'un'], 'que'), (['que', 'momento'], 'no'), (['no', 'que'], 'funcionaba'), (['funcionaba', 'no'], 'tambien'), (['tambien', 'funcionaba'], 'dev'), (['dev', 'tambien'], ','), ([',', 'dev'], 'era'), (['era', ','], 'que'), (['que', 'era'], 'la'), (['la', 'que'], 'ruta'), (['ruta', 'la'], 'del'), (['del', 'ruta'], 'vault'), (['vault', 'del'], 'en'), (['en', 'vault'], 'el'), (['el', 'en'], 'yaml'), (['yaml', 'el'], 'que'), (['que', 'yaml'], 'tenia'), (['tenia', 'que'], 'no'), (['no', 'tenia'], 'era'), (['era', 'no'], 'correcta'), (['correcta', 'era'], ','), ([',', 'correcta'], 'pero'), (['pero', ','], 'no'), (['no', 'pero'], 'la'), (['la', 'no'], 'ruta'), (['ruta', 'la'], 'final'), (['final', 'ruta'], 'sino'), (['sino', 'final'], 'la'), (['la', 'sino'], 'ruta'), (['ruta', 'la'], 'inicial'), (['inicial', 'ruta'], ','), ([',', 'inicial'], 'debia'), (['debia', ','], 'decir'), (['decir', 'debia'], 'vault://nextstart2.xxx.xxx.xxx'), (['vault://nextstart2.xxx.xxx.xxx', 'decir'], 'y'), (['y', 'vault://nextstart2.xxx.xxx.xxx'], 'decia'), (['decia', 'y'], 'vault://nextart.xxxx.xxx.xxx'), (['vault://nextart.xxxx.xxx.xxx', 'decia'], ','), ([',', 'vault://nextart.xxxx.xxx.xxx'], 'me'), (['me', ','], 'olvidé'), (['olvidé', 'me'], 'de'), (['de', 'olvidé'], 'poner'), (['poner', 'de'], 'el'), (['el', 'poner'], '\"2\"'), (['\"2\"', 'el'], ';'), ([';', '\"2\"'], 'pero'), (['pero', ';'], 'eso'), (['eso', 'pero'], 'no'), (['no', 'eso'], 'me'), (['me', 'no'], 'di'), (['di', 'me'], 'cuenta'), (['cuenta', 'di'], 'porque'), (['porque', 'cuenta'], 'en'), (['en', 'porque'], 'el'), (['el', 'en'], 'template'), (['template', 'el'], 'se'), (['se', 'template'], 'encuentra'), (['encuentra', 'se'], 'de'), (['de', 'encuentra'], 'esa'), (['esa', 'de'], 'forma'), (['forma', 'esa'], ','), ([',', 'forma'], 'entonces'), (['entonces', ','], 'para'), (['para', 'entonces'], 'una'), (['una', 'para'], 'siguiente'), (['siguiente', 'una'], 'vez'), (['vez', 'siguiente'], 'validar'), (['validar', 'vez'], 'bien'), (['bien', 'validar'], 'lo'), (['lo', 'bien'], 'que'), (['que', 'lo'], 'se'), (['se', 'que'], 'tiene'), (['tiene', 'se'], 'del'), (['del', 'tiene'], 'proyecto'), (['proyecto', 'del'], 'gitlab'), (['gitlab', 'proyecto'], 'template'), (['template', 'gitlab'], '.'), (['.', 'template'], 'reporte'), (['reporte', '.'], '30.05.2025'), (['30.05.2025', 'reporte'], 'Me'), (['Me', '30.05.2025'], 'hes'), (['hes', 'Me'], 'complicado'), (['complicado', 'hes'], 'poder'), (['poder', 'complicado'], 'escribir'), (['escribir', 'poder'], 'sobre'), (['sobre', 'escribir'], 'este'), (['este', 'sobre'], 'incidente.'), (['incidente.', 'este'], 'Cuando'), (['Cuando', 'incidente.'], 'tengo'), (['tengo', 'Cuando'], 'presion'), (['presion', 'tengo'], 'del'), (['del', 'presion'], 'exterior(alguien'), (['exterior(alguien', 'del'], 'me'), (['me', 'exterior(alguien'], 'presiona'), (['presiona', 'me'], 'directa'), (['directa', 'presiona'], 'o'), (['o', 'directa'], 'indirectamente)'), (['indirectamente)', 'o'], ','), ([',', 'indirectamente)'], 'en'), (['en', ','], 'este'), (['este', 'en'], 'caso'), (['caso', 'este'], 'del'), (['del', 'caso'], 'equoi'), (['equoi', 'del'], 'de'), (['de', 'equoi'], 'qa,'), (['qa,', 'de'], 'para'), (['para', 'qa,'], 'poder'), (['poder', 'para'], 'terminar'), (['terminar', 'poder'], 'una'), (['una', 'terminar'], 'tarea'), (['tarea', 'una'], ','), ([',', 'tarea'], 'yo'), (['yo', ','], 'pongo'), (['pongo', 'yo'], 'todo'), (['todo', 'pongo'], 'de'), (['de', 'todo'], 'mi'), (['mi', 'de'], 'parte'), (['parte', 'mi'], 'para'), (['para', 'parte'], 'poder'), (['poder', 'para'], 'terminarla'), (['terminarla', 'poder'], 'cuanto'), (['cuanto', 'terminarla'], 'antes'), (['antes', 'cuanto'], ','), ([',', 'antes'], 'entonces'), (['entonces', ','], 'mi'), (['mi', 'entonces'], 'mente'), (['mente', 'mi'], 'empieza'), (['empieza', 'mente'], 'a'), (['a', 'empieza'], 'ir'), (['ir', 'a'], 'más'), (['más', 'ir'], 'rapido'), (['rapido', 'más'], 'que'), (['que', 'rapido'], 'la'), (['la', 'que'], 'resistencia'), (['resistencia', 'la'], 'de'), (['de', 'resistencia'], 'mi'), (['mi', 'de'], 'cuerpo.'), (['cuerpo.', 'mi'], 'Cuando'), (['Cuando', 'cuerpo.'], 'sucede'), (['sucede', 'Cuando'], 'eso'), (['eso', 'sucede'], 'dejo'), (['dejo', 'eso'], 'de'), (['de', 'dejo'], 'hacer'), (['hacer', 'de'], 'mis'), (['mis', 'hacer'], 'pausas'), (['pausas', 'mis'], 'largas'), (['largas', 'pausas'], 'entonces'), (['entonces', 'largas'], 'mis'), (['mis', 'entonces'], 'ojos'), (['ojos', 'mis'], 'empieza'), (['empieza', 'ojos'], 'a'), (['a', 'empieza'], 'lagrimear'), (['lagrimear', 'a'], ','), ([',', 'lagrimear'], 'desde'), (['desde', ','], 'ese'), (['ese', 'desde'], 'momento'), (['momento', 'ese'], 'mi'), (['mi', 'momento'], 'eficiencia'), (['eficiencia', 'mi'], 'visual'), (['visual', 'eficiencia'], 'se'), (['se', 'visual'], 'pierde'), (['pierde', 'se'], 'practicamente'), (['practicamente', 'pierde'], 'durante'), (['durante', 'practicamente'], 'todo'), (['todo', 'durante'], 'el'), (['el', 'todo'], 'dia.'), (['dia.', 'el'], 'Aprender'), (['Aprender', 'dia.'], 'a'), (['a', 'Aprender'], 'identificar'), (['identificar', 'a'], 'cuando'), (['cuando', 'identificar'], 'suceden'), (['suceden', 'cuando'], 'estos'), (['estos', 'suceden'], 'episodios'), (['episodios', 'estos'], 'de'), (['de', 'episodios'], 'trabajo'), (['trabajo', 'de'], 'bajo'), (['bajo', 'trabajo'], 'presion'), (['presion', 'bajo'], 'y'), (['y', 'presion'], 'no'), (['no', 'y'], 'dejar'), (['dejar', 'no'], 'mi'), (['mi', 'dejar'], 'pausa'), (['pausa', 'mi'], 'largas'), (['largas', 'pausa'], 'es'), (['es', 'largas'], 'un'), (['un', 'es'], 'reto.'), (['reto.', 'un'], 'En'), (['En', 'reto.'], 'esas'), (['esas', 'En'], 'situaciones'), (['situaciones', 'esas'], 'se'), (['se', 'situaciones'], 'debe'), (['debe', 'se'], 'de'), (['de', 'debe'], 'evitar'), (['evitar', 'de'], 'el'), (['el', 'evitar'], 'tomar'), (['tomar', 'el'], 'café'), (['café', 'tomar'], 'y'), (['y', 'café'], 'reforzar'), (['reforzar', 'y'], 'los'), (['los', 'reforzar'], 'ejercicios'), (['ejercicios', 'los'], 'de'), (['de', 'ejercicios'], 'meditación.'), (['meditación.', 'de'], 'Por'), (['Por', 'meditación.'], 'la'), (['la', 'Por'], 'misma'), (['misma', 'la'], 'premura'), (['premura', 'misma'], 'adelante'), (['adelante', 'premura'], 'una'), (['una', 'adelante'], 'fwt(presentancón'), (['fwt(presentancón', 'una'], 'de'), (['de', 'fwt(presentancón'], 'desarollo)'), (['desarollo)', 'de'], 'sin'), (['sin', 'desarollo)'], 'haber'), (['haber', 'sin'], 'revisado'), (['revisado', 'haber'], 'bien'), (['bien', 'revisado'], 'si'), (['si', 'bien'], 'el'), (['el', 'si'], 'req'), (['req', 'el'], 'estaba'), (['estaba', 'req'], 'terminado'), (['terminado', 'estaba'], ','), ([',', 'terminado'], 'osea'), (['osea', ','], 'sin'), (['sin', 'osea'], 'haber'), (['haber', 'sin'], 'hecho'), (['hecho', 'haber'], 'un'), (['un', 'hecho'], 'doble'), (['doble', 'un'], 'check.'), (['check.', 'doble'], 'Las'), (['Las', 'check.'], 'fwt'), (['fwt', 'Las'], 'las'), (['las', 'fwt'], 'debo'), (['debo', 'las'], 'asignar'), (['asignar', 'debo'], 'yo'), (['yo', 'asignar'], 'sin'), (['sin', 'yo'], 'presiones'), (['presiones', 'sin'], 'externas'), (['externas', 'presiones'], 'cuando'), (['cuando', 'externas'], 'crea'), (['crea', 'cuando'], 'que'), (['que', 'crea'], 'el'), (['el', 'que'], 'req'), (['req', 'el'], 'esta'), (['esta', 'req'], 'listo'), (['listo', 'esta'], 'y'), (['y', 'listo'], 'llegar'), (['llegar', 'y'], 'a'), (['a', 'llegar'], 'cometer'), (['cometer', 'a'], 'errores'), (['errores', 'cometer'], 'basicos'), (['basicos', 'errores'], 'en'), (['en', 'basicos'], 'plena'), (['plena', 'en'], 'presentación'), (['presentación', 'plena'], ','), ([',', 'presentación'], 'que'), (['que', ','], 'es'), (['es', 'que'], 'lo'), (['lo', 'es'], 'que'), (['que', 'lo'], 'ha'), (['ha', 'que'], 'sucedio'), (['sucedio', 'ha'], 'esta'), (['esta', 'sucedio'], 'vez.'), (['vez.', 'esta'], 'reporte'), (['reporte', 'vez.'], 'técnico'), (['técnico', 'reporte'], '04.06.2025'), (['04.06.2025', 'técnico'], 'respecto'), (['respecto', '04.06.2025'], 'a'), (['a', 'respecto'], 'Account'), (['Account', 'a'], 'charge'), (['charge', 'Account'], 'este'), (['este', 'charge'], 'si'), (['si', 'este'], 'logro'), (['logro', 'si'], 'levantar'), (['levantar', 'logro'], 'en'), (['en', 'levantar'], 'mi'), (['mi', 'en'], 'entorno'), (['entorno', 'mi'], 'local'), (['local', 'entorno'], 'conectandome'), (['conectandome', 'local'], 'al'), (['al', 'conectandome'], 'consult'), (['consult', 'al'], 'y'), (['y', 'consult'], 'vault.'), (['vault.', 'y'], 'Se'), (['Se', 'vault.'], 'debe'), (['debe', 'Se'], 'definir'), (['definir', 'debe'], 'o'), (['o', 'definir'], 'hacer'), (['hacer', 'o'], 'una'), (['una', 'hacer'], 'poc'), (['poc', 'una'], 'para'), (['para', 'poc'], 'saber'), (['saber', 'para'], 'que'), (['que', 'saber'], \"srv's\"), ([\"srv's\", 'que'], 'son'), (['son', \"srv's\"], 'los'), (['los', 'son'], 'que'), (['que', 'los'], 'tienen'), (['tienen', 'que'], 'dicho'), (['dicho', 'tienen'], 'problema.'), (['problema.', 'dicho'], 'Dado'), (['Dado', 'problema.'], 'que'), (['que', 'Dado'], 'el'), (['el', 'que'], 'caso'), (['caso', 'el'], 'del'), (['del', 'caso'], 'reporte'), (['reporte', 'del'], 'anterior'), (['anterior', 'reporte'], '('), (['(', 'anterior'], '10.01.2025'), (['10.01.2025', '('], ')'), ([')', '10.01.2025'], 'se'), (['se', ')'], 'entiende'), (['entiende', 'se'], 'que'), (['que', 'entiende'], 'entiende'), (['entiende', 'que'], 'que'), (['que', 'entiende'], 'el'), (['el', 'que'], 'problema'), (['problema', 'el'], 'fue'), (['fue', 'problema'], 'que'), (['que', 'fue'], 'no'), (['no', 'que'], 'coloque'), (['coloque', 'no'], 'mal'), (['mal', 'coloque'], 'un'), (['un', 'mal'], 'parametro.'), (['parametro.', 'un'], '-'), (['-', 'parametro.'], 'cuando'), (['cuando', '-'], 'se'), (['se', 'cuando'], 'toma'), (['toma', 'se'], 'un'), (['un', 'toma'], 'servicio'), (['servicio', 'un'], 'se'), (['se', 'servicio'], 'debe'), (['debe', 'se'], 'de'), (['de', 'debe'], 'revisar'), (['revisar', 'de'], 'si'), (['si', 'revisar'], 'este'), (['este', 'si'], 'tbn'), (['tbn', 'este'], 'esta'), (['esta', 'tbn'], 'siendo'), (['siendo', 'esta'], 'trabajado'), (['trabajado', 'siendo'], 'por'), (['por', 'trabajado'], 'otro'), (['otro', 'por'], 'equipo'), (['equipo', 'otro'], 'en'), (['en', 'equipo'], 'este'), (['este', 'en'], 'caso'), (['caso', 'este'], '('), (['(', 'caso'], 'acdc'), (['acdc', '('], ')'), ([')', 'acdc'], '-'), (['-', ')'], 'cuando'), (['cuando', '-'], 'se'), (['se', 'cuando'], 'toma'), (['toma', 'se'], 'un'), (['un', 'toma'], 'nuevo'), (['nuevo', 'un'], 'servicio'), (['servicio', 'nuevo'], 'se'), (['se', 'servicio'], 'debe'), (['debe', 'se'], 'analizar'), (['analizar', 'debe'], 'si'), (['si', 'analizar'], 'hay'), (['hay', 'si'], 'topics('), (['topics(', 'hay'], 'timezone'), (['timezone', 'topics('], ')'), ([')', 'timezone'], 'q'), (['q', ')'], 'yo'), (['yo', 'q'], 'no'), (['no', 'yo'], 'conozca'), (['conozca', 'no'], 'o'), (['o', 'conozca'], 'conozco'), (['conozco', 'o'], 'muy'), (['muy', 'conozco'], 'poco'), (['poco', 'muy'], 'antes'), (['antes', 'poco'], 'de'), (['de', 'antes'], 'dar'), (['dar', 'de'], 'una'), (['una', 'dar'], 'estimación'), (['estimación', 'una'], '.'), (['.', 'estimación'], 'Aprender'), (['Aprender', '.'], 'a'), (['a', 'Aprender'], 'ver'), (['ver', 'a'], 'que'), (['que', 'ver'], 'posibles'), (['posibles', 'que'], 'pocs'), (['pocs', 'posibles'], 'puedo'), (['puedo', 'pocs'], 'realizar'), (['realizar', 'puedo'], 'antes'), (['antes', 'realizar'], 'de'), (['de', 'antes'], 'implementar'), (['implementar', 'de'], 'el'), (['el', 'implementar'], 'req'), (['req', 'el'], 'y'), (['y', 'req'], 'no'), (['no', 'y'], 'crear'), (['crear', 'no'], 'sesgos'), (['sesgos', 'crear'], 'en'), (['en', 'sesgos'], 'base'), (['base', 'en'], 'a'), (['a', 'base'], 'consultas'), (['consultas', 'a'], 'realizadas'), (['realizadas', 'consultas'], 'aun'), (['aun', 'realizadas'], 'llm.'), (['llm.', 'aun'], 'Muchas'), (['Muchas', 'llm.'], 'veces'), (['veces', 'Muchas'], 'sucede'), (['sucede', 'veces'], 'que'), (['que', 'sucede'], 'estas'), (['estas', 'que'], 'herramientas'), (['herramientas', 'estas'], 'te'), (['te', 'herramientas'], 'ayudan'), (['ayudan', 'te'], 'a'), (['a', 'ayudan'], 'reefornzar'), (['reefornzar', 'a'], 'un'), (['un', 'reefornzar'], 'sesgo'), (['sesgo', 'un'], '.'), (['.', 'sesgo'], 'por'), (['por', '.'], 'más'), (['más', 'por'], 'que'), (['que', 'más'], 'el'), (['el', 'que'], 'req'), (['req', 'el'], 'parezca'), (['parezca', 'req'], 'sencillo'), (['sencillo', 'parezca'], 'se'), (['se', 'sencillo'], 'debe'), (['debe', 'se'], 'de'), (['de', 'debe'], 'analizar/entender'), (['analizar/entender', 'de'], 'bien'), (['bien', 'analizar/entender'], 'la'), (['la', 'bien'], 'us'), (['us', 'la'], 'antes'), (['antes', 'us'], 'de'), (['de', 'antes'], 'decir'), (['decir', 'de'], 'que'), (['que', 'decir'], 'ya'), (['ya', 'que'], 'la'), (['la', 'ya'], 'puedo'), (['puedo', 'la'], 'iniciar.'), (['iniciar.', 'puedo'], 'muchas'), (['muchas', 'iniciar.'], 'veces,'), (['veces,', 'muchas'], 'como'), (['como', 'veces,'], 'ahora'), (['ahora', 'como'], ','), ([',', 'ahora'], 'la'), (['la', ','], 'parte'), (['parte', 'la'], 'de'), (['de', 'parte'], 'implementación'), (['implementación', 'de'], 'no'), (['no', 'implementación'], 'es'), (['es', 'no'], 'la'), (['la', 'es'], 'más'), (['más', 'la'], 'complicada'), (['complicada', 'más'], 'sino'), (['sino', 'complicada'], 'que'), (['que', 'sino'], 'hay'), (['hay', 'que'], 'por'), (['por', 'hay'], 'detras'), (['detras', 'por'], ','), ([',', 'detras'], 'cuando'), (['cuando', ','], 'veas'), (['veas', 'cuando'], 'algo'), (['algo', 'veas'], '\"sencillo\"'), (['\"sencillo\"', 'algo'], 'preocupate'), (['preocupate', '\"sencillo\"'], 'aún'), (['aún', 'preocupate'], 'más.'), (['más.', 'aún'], 'Aprender'), (['Aprender', 'más.'], 'a'), (['a', 'Aprender'], 'trabajar'), (['trabajar', 'a'], 'de'), (['de', 'trabajar'], 'forma'), (['forma', 'de'], 'estrategica.'), (['estrategica.', 'forma'], 'En'), (['En', 'estrategica.'], 'mi'), (['mi', 'En'], 'caso'), (['caso', 'mi'], 'me'), (['me', 'caso'], 'sirve'), (['sirve', 'me'], 'más'), (['más', 'sirve'], 'conversar'), (['conversar', 'más'], 'con'), (['con', 'conversar'], 'una'), (['una', 'con'], 'persona'), (['persona', 'una'], 'de'), (['de', 'persona'], 'apoyo.'), (['apoyo.', 'de'], 'si'), (['si', 'apoyo.'], 'esta'), (['esta', 'si'], 'persona'), (['persona', 'esta'], 'tiene'), (['tiene', 'persona'], 'buen'), (['buen', 'tiene'], 'skill'), (['skill', 'buen'], 'técnico'), (['técnico', 'skill'], 'es'), (['es', 'técnico'], 'mejor('), (['mejor(', 'es'], 'sant'), (['sant', 'mejor('], ')')]\n"
     ]
    },
    {
     "data": {
      "text/plain": [
       "245"
      ]
     },
     "execution_count": 4,
     "metadata": {},
     "output_type": "execute_result"
    }
   ],
   "source": [
    "CONTEXT_SIZE = 2\n",
    "EMBEDDING_DIM = 10\n",
    "PATH_FILE = '/mnt/c/Users/gustavo.choque/Desktop/incidents.txt'\n",
    "with open(PATH_FILE, 'r', encoding='utf-8') as file:\n",
    "    test_sentence = file.read().strip()\n",
    "\n",
    "test_sentence = test_sentence.split()\n",
    "\n",
    "# aca se crear una tupla ('dato1', 'dato2')\n",
    "# la tupla es inmutable y de longitud fija\n",
    "ngrams = [([test_sentence[i - j - 1] for j in range(CONTEXT_SIZE)], test_sentence[i])\n",
    "       for i in range(CONTEXT_SIZE, len(test_sentence))]\n",
    "\n",
    "print(ngrams)\n",
    "\n",
    "vocab = set(test_sentence)\n",
    "\n",
    "#agrega una enumración a cada elemento de un arreglo\n",
    "#retorna un type Dict diccionary\n",
    "word_to_ix = {word: i for i, word in enumerate(vocab)}    \n",
    "word_to_ix[\"mismo\"]\n"
   ]
  },
  {
   "cell_type": "code",
   "execution_count": 6,
   "id": "599f42da",
   "metadata": {},
   "outputs": [
    {
     "name": "stdout",
     "output_type": "stream",
     "text": [
      "[188279.96473026276, 188279.3112397194, 188278.68798160553, 188278.09405374527, 188277.52679777145, 188276.98608112335, 188276.46785354614, 188275.9724597931, 188275.49803256989, 188275.0440711975]\n"
     ]
    },
    {
     "data": {
      "text/plain": [
       "tensor([ 0.1714,  1.8895, -0.4044,  1.0543,  1.4037, -0.2143,  1.0520,  0.4427,\n",
       "         0.3797,  0.4243], grad_fn=<SelectBackward0>)"
      ]
     },
     "execution_count": 6,
     "metadata": {},
     "output_type": "execute_result"
    }
   ],
   "source": [
    "class NGramLanguageModeler(nn.Module):\n",
    "    \n",
    "    def __init__(self, vocab_size, embedding_dim, context_size):\n",
    "        super(NGramLanguageModeler, self).__init__()\n",
    "        self.embeddings = nn.Embedding(vocab_size, embedding_dim)\n",
    "        self.linear1 = nn.Linear(context_size * embedding_dim, 128)\n",
    "        self.linear2 = nn.Linear(128, vocab_size)\n",
    "    \n",
    "    def forward(self, inputs):\n",
    "        embeds = self.embeddings(inputs).view((1, -1))\n",
    "        out = F.relu(self.linear1(embeds))\n",
    "        out = self.linear2(out)\n",
    "        log_props = F.log_softmax(out, dim=1)\n",
    "        return log_props\n",
    "\n",
    "losses = []\n",
    "loss_function = nn.L1Loss()\n",
    "model = NGramLanguageModeler(len(vocab), EMBEDDING_DIM, CONTEXT_SIZE)\n",
    "optimizer = optim.SGD(model.parameters(), lr=0.001)\n",
    "\n",
    "for epoch in range(10):\n",
    "    total_loss = 0\n",
    "    for context, target in ngrams:\n",
    "        context_ids = torch.tensor([word_to_ix[w] for w in context], \n",
    "                                   dtype=torch.long)\n",
    "        model.zero_grad()\n",
    "        \n",
    "        #forwad pass\n",
    "        log_probs = model(context_ids)\n",
    "        \n",
    "        #loss function \n",
    "        loss = loss_function(log_probs, torch.tensor([word_to_ix[target]], \n",
    "                                                     dtype=torch.long))\n",
    "        loss.backward()\n",
    "        optimizer.step()\n",
    "        \n",
    "        total_loss += loss.item()\n",
    "    losses.append(total_loss)\n",
    "\n",
    "print(losses)\n",
    "model.embeddings.weight[word_to_ix['mismo']]\n",
    "        "
   ]
  },
  {
   "cell_type": "code",
   "execution_count": null,
   "id": "0c71a804",
   "metadata": {},
   "outputs": [
    {
     "name": "stdout",
     "output_type": "stream",
     "text": [
      "torch.Size([81, 5])\n"
     ]
    },
    {
     "data": {
      "text/plain": [
       "torch.Size([2, 1, 3])"
      ]
     },
     "execution_count": 35,
     "metadata": {},
     "output_type": "execute_result"
    }
   ],
   "source": [
    "# ref https://docs.pytorch.org/docs/stable/generated/torch.nn.Linear.html#torch.nn.Linear\n",
    "# 3 cant. de features de entrada\n",
    "# 5 cant. de features de salida\n",
    "m = nn.Linear(3, 5)\n",
    "\n",
    "#input is 81x3\n",
    "input_sample = torch.randn(81, 3)\n",
    "input_sample.shape\n",
    "\n",
    "#output is 81x5\n",
    "#A transpuesta tiene forma 3x5\n",
    "#A tiene forma 5x3 , según doc de pytorch\n",
    "output = m(input_sample)\n",
    "print(output.shape)\n",
    "\n",
    "#embedding\n",
    "#10 es el tamaño del diccionario\n",
    "#3 es el tamño del embedding\n",
    "embedd = nn.Embedding(10, 3)\n",
    "#size is 2x4\n",
    "#tiene 2 samples de 1 indice(s)\n",
    "inputEmb = torch.LongTensor([[2], [4]])\n",
    "\n",
    "outEmb = embedd(inputEmb)\n",
    "#2 samples con 1 indeice pero que ahora \n",
    "#tiene el embedding de 3\n",
    "outEmb.size()\n"
   ]
  },
  {
   "cell_type": "code",
   "execution_count": 12,
   "id": "f2f91d75",
   "metadata": {},
   "outputs": [
    {
     "data": {
      "text/plain": [
       "torch.Tensor"
      ]
     },
     "execution_count": 12,
     "metadata": {},
     "output_type": "execute_result"
    }
   ],
   "source": [
    "#El View aplana el tensor\n",
    "sample = torch.randn(5, 3)\n",
    "a = sample.view((1,-1))\n",
    "type(a)\n"
   ]
  },
  {
   "cell_type": "code",
   "execution_count": null,
   "id": "048378de",
   "metadata": {},
   "outputs": [
    {
     "data": {
      "text/plain": [
       "list"
      ]
     },
     "execution_count": 16,
     "metadata": {},
     "output_type": "execute_result"
    }
   ],
   "source": []
  },
  {
   "cell_type": "code",
   "execution_count": null,
   "id": "e9ef2988",
   "metadata": {},
   "outputs": [],
   "source": []
  },
  {
   "cell_type": "code",
   "execution_count": null,
   "id": "705cc81a",
   "metadata": {},
   "outputs": [],
   "source": []
  },
  {
   "cell_type": "code",
   "execution_count": null,
   "id": "2b419534",
   "metadata": {},
   "outputs": [],
   "source": []
  },
  {
   "cell_type": "code",
   "execution_count": null,
   "id": "57276aaa",
   "metadata": {},
   "outputs": [],
   "source": []
  }
 ],
 "metadata": {
  "kernelspec": {
   "display_name": "dsroad",
   "language": "python",
   "name": "python3"
  },
  "language_info": {
   "codemirror_mode": {
    "name": "ipython",
    "version": 3
   },
   "file_extension": ".py",
   "mimetype": "text/x-python",
   "name": "python",
   "nbconvert_exporter": "python",
   "pygments_lexer": "ipython3",
   "version": "3.13.3"
  }
 },
 "nbformat": 4,
 "nbformat_minor": 5
}
