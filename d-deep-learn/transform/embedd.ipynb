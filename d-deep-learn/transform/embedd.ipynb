{
 "cells": [
  {
   "cell_type": "markdown",
   "id": "e8673626",
   "metadata": {},
   "source": [
    "## Work embedding\n",
    "\n",
    "sample taken from https://docs.pytorch.org/tutorials/beginner/nlp/word_embeddings_tutorial.html\n",
    "\n",
    "puntos clave:\n",
    "\n",
    "> Word embedding es la representación semantica de una palabra\n",
    "en vez de usar one-hot vector\n"
   ]
  },
  {
   "cell_type": "code",
   "execution_count": 27,
   "id": "5575a31a",
   "metadata": {},
   "outputs": [
    {
     "data": {
      "text/plain": [
       "<torch._C.Generator at 0x7f7de02c57b0>"
      ]
     },
     "execution_count": 27,
     "metadata": {},
     "output_type": "execute_result"
    }
   ],
   "source": [
    "import torch\n",
    "import torch.nn as nn\n",
    "import torch.functional as F\n",
    "import torch.optim as optim\n",
    "\n",
    "torch.manual_seed(1)"
   ]
  },
  {
   "cell_type": "code",
   "execution_count": 28,
   "id": "2f531615",
   "metadata": {},
   "outputs": [
    {
     "name": "stdout",
     "output_type": "stream",
     "text": [
      "tensor([[-0.1661, -1.5228,  0.3817, -1.0276, -0.5631]],\n",
      "       grad_fn=<EmbeddingBackward0>)\n"
     ]
    }
   ],
   "source": [
    "word_to_ix = {\"hello\": 0, \"World\":1}\n",
    "word_to_ix[\"World\"]\n",
    "\n",
    "# 2 palabras en el vocabulario\n",
    "# 5 tamaño del embedding de las palabras\n",
    "embedd = nn.Embedding(2, 5)\n",
    "lookup_tensor = torch.tensor([word_to_ix[\"World\"]], dtype=torch.long)\n",
    "worl_embedd = embedd(lookup_tensor)\n",
    "print(worl_embedd)"
   ]
  },
  {
   "cell_type": "code",
   "execution_count": 29,
   "id": "d312f8c0",
   "metadata": {},
   "outputs": [],
   "source": [
    "CONTEXT_SIZE = 2\n",
    "EMBEDDING_DIM = 10\n",
    "PATH_FILE = '/mnt/c/Users/gustavo.choque/Desktop/incidents.txt'\n",
    "with open(PATH_FILE, 'r', encoding='utf-8') as file:\n",
    "    test_sentence = file.read().strip()\n",
    "\n",
    "test_sentence = test_sentence.split()\n",
    "\n",
    "# aca se crear una tupla ('dato1', 'dato2')\n",
    "# la tupla es inmutable y de longitud fija\n",
    "arr = [([test_sentence[i - j - 1] for j in range(CONTEXT_SIZE)], test_sentence[i])\n",
    "       for i in range(CONTEXT_SIZE, len(test_sentence))]\n",
    "\n",
    "#print(test_sentence)\n",
    "\n",
    "vocab = set(test_sentence)\n",
    "\n",
    "#agrega una enumarción a cada elemento de un arreglo\n",
    "word_to_ix = {word: i for i, word in enumerate(vocab)}    \n"
   ]
  },
  {
   "cell_type": "code",
   "execution_count": 30,
   "id": "599f42da",
   "metadata": {},
   "outputs": [],
   "source": [
    "class NGramLanguageModeler(nn.Module):\n",
    "    \n",
    "    def __init__(self, vocab_size, embedding_dim, context_size):\n",
    "        super(NGramLanguageModeler, self).__init__()\n",
    "        self.embeddings = nn.Embedding(vocab_size, embedding_dim)\n",
    "        self.linear1 = nn.Linear(context_size * embedding_dim, 128)\n",
    "        self.linear2 = nn.Linear(128, vocab_size)\n",
    "    \n",
    "    def forward(self, inputs):\n",
    "        embeds = self.embeddings(inputs).view((1, -1))\n",
    "        out = F.relu(self.linear1(embeds))\n",
    "        out = self.linear2(out)\n",
    "        log_props = F.log_sofmax(out, dim=1)\n",
    "        return log_props\n",
    "        "
   ]
  },
  {
   "cell_type": "code",
   "execution_count": null,
   "id": "0c71a804",
   "metadata": {},
   "outputs": [
    {
     "name": "stdout",
     "output_type": "stream",
     "text": [
      "torch.Size([81, 5])\n"
     ]
    }
   ],
   "source": [
    "# 3 cant. de features de entrada\n",
    "# 5 cant. de features de salida\n",
    "m = nn.Linear(3, 5)\n",
    "\n",
    "#input is 81x3\n",
    "input_sample = torch.randn(81, 3)\n",
    "input_sample.shape\n",
    "\n",
    "#output is 81x5\n",
    "#A transpuesta tiene forma 3x5\n",
    "#A tiene forma 5x3 , según doc de pytorch\n",
    "output = m(input_sample)\n",
    "print(output.shape)\n"
   ]
  },
  {
   "cell_type": "code",
   "execution_count": null,
   "id": "f2f91d75",
   "metadata": {},
   "outputs": [],
   "source": []
  },
  {
   "cell_type": "code",
   "execution_count": null,
   "id": "048378de",
   "metadata": {},
   "outputs": [],
   "source": []
  },
  {
   "cell_type": "code",
   "execution_count": null,
   "id": "e9ef2988",
   "metadata": {},
   "outputs": [],
   "source": []
  },
  {
   "cell_type": "code",
   "execution_count": null,
   "id": "705cc81a",
   "metadata": {},
   "outputs": [],
   "source": []
  },
  {
   "cell_type": "code",
   "execution_count": null,
   "id": "2b419534",
   "metadata": {},
   "outputs": [],
   "source": []
  },
  {
   "cell_type": "code",
   "execution_count": null,
   "id": "57276aaa",
   "metadata": {},
   "outputs": [],
   "source": []
  }
 ],
 "metadata": {
  "kernelspec": {
   "display_name": "dsroad",
   "language": "python",
   "name": "python3"
  },
  "language_info": {
   "codemirror_mode": {
    "name": "ipython",
    "version": 3
   },
   "file_extension": ".py",
   "mimetype": "text/x-python",
   "name": "python",
   "nbconvert_exporter": "python",
   "pygments_lexer": "ipython3",
   "version": "3.13.3"
  }
 },
 "nbformat": 4,
 "nbformat_minor": 5
}
