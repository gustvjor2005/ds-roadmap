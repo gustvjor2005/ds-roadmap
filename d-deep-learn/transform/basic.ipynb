{
 "cells": [
  {
   "cell_type": "markdown",
   "id": "920efe67",
   "metadata": {},
   "source": [
    "transformer y modelo de atención\n",
    "\n",
    "conda env :  dsroad\n",
    "\n",
    "link estudio :\n",
    "\n",
    "https://web.stanford.edu/class/cs224n/readings/cs224n-self-attention-transformers-2023_draft.pdf\n",
    "\n",
    "https://slds-lmu.github.io/seminar_nlp_ss20/attention-and-self-attention-for-nlp.html\n",
    "\n",
    "28.05   seguir con el curso de langchain\n",
    "        paper sobre trasnformer\n",
    "        buscar tener una interpretación\n",
    "\n"
   ]
  },
  {
   "cell_type": "code",
   "execution_count": 1,
   "id": "c0f17f3f",
   "metadata": {},
   "outputs": [
    {
     "name": "stdout",
     "output_type": "stream",
     "text": [
      "transformer and attention model\n"
     ]
    }
   ],
   "source": [
    "print(\"transformer and attention model\")"
   ]
  },
  {
   "cell_type": "code",
   "execution_count": 1,
   "id": "b8a0ff59",
   "metadata": {},
   "outputs": [
    {
     "name": "stdout",
     "output_type": "stream",
     "text": [
      "input shape is torch.Size([1, 4, 8])\n"
     ]
    }
   ],
   "source": [
    "import torch\n",
    "import torch.nn as nn \n",
    "import torch.nn.functional as F\n",
    "\n",
    "#ejemplo de oración\n",
    "tokens = [\"I\", \"love\", \"my\", \"partner\"]\n",
    "\n",
    "embedding_dim = 8\n",
    "seq_len = len(tokens)\n",
    "\n",
    "x = torch.randn(1, seq_len, embedding_dim)\n",
    "\n",
    "print(\"input shape is\", x.shape)"
   ]
  },
  {
   "cell_type": "code",
   "execution_count": 2,
   "id": "5dcf8f02",
   "metadata": {},
   "outputs": [],
   "source": [
    "class SelfAttention(nn.Module):\n",
    "    def __init__(self, embed_dim):\n",
    "        super().__init__()\n",
    "        self.q = nn.Linear(embed_dim, embed_dim)\n",
    "        self.k = nn.Linear(embed_dim, embed_dim)\n",
    "        self.v = nn.Linear(embed_dim, embed_dim)\n",
    "        self.scale = embed_dim ** 0.5\n",
    "    \n",
    "    def forward(self, x):\n",
    "        Q = self.q(x)\n",
    "        K = self.k(x)\n",
    "        V = self.v(x)\n",
    "        \n",
    "        scores = torch.matmul(Q, K.transpose(-2, -1)) / self.scale\n",
    "        attn_weights = F.softmax(scores, dim=-1)\n",
    "        out = torch.matmul(attn_weights, V)\n",
    "        \n",
    "        return out, attn_weights\n",
    "        \n",
    "        "
   ]
  },
  {
   "cell_type": "code",
   "execution_count": 3,
   "id": "7875649b",
   "metadata": {},
   "outputs": [],
   "source": [
    "attn = SelfAttention(embed_dim=embedding_dim)\n",
    "output, weights = attn(x)"
   ]
  },
  {
   "cell_type": "code",
   "execution_count": 8,
   "id": "43dc24a1",
   "metadata": {},
   "outputs": [
    {
     "name": "stdout",
     "output_type": "stream",
     "text": [
      "\n",
      "Attention weights\n",
      " I attent to :\n",
      " I: 0.24\n",
      " love: 0.16\n",
      " my: 0.33\n",
      " partner: 0.27\n",
      " love attent to :\n",
      " I: 0.27\n",
      " love: 0.19\n",
      " my: 0.26\n",
      " partner: 0.27\n",
      " my attent to :\n",
      " I: 0.23\n",
      " love: 0.25\n",
      " my: 0.33\n",
      " partner: 0.19\n",
      " partner attent to :\n",
      " I: 0.24\n",
      " love: 0.19\n",
      " my: 0.36\n",
      " partner: 0.21\n"
     ]
    }
   ],
   "source": [
    "print(\"\\nAttention weights\")\n",
    "\n",
    "for i, token in enumerate(tokens):\n",
    "    #print(i, token)\n",
    "    print(f\" {token} attent to :\")\n",
    "    for j, other_token in enumerate(tokens):\n",
    "        print(f\" {other_token}: {weights[0][i][j].item():.2f}\")"
   ]
  },
  {
   "cell_type": "code",
   "execution_count": null,
   "id": "4ba44249",
   "metadata": {},
   "outputs": [],
   "source": []
  },
  {
   "cell_type": "code",
   "execution_count": null,
   "id": "32cd3344",
   "metadata": {},
   "outputs": [],
   "source": []
  }
 ],
 "metadata": {
  "kernelspec": {
   "display_name": "dsroad",
   "language": "python",
   "name": "python3"
  },
  "language_info": {
   "codemirror_mode": {
    "name": "ipython",
    "version": 3
   },
   "file_extension": ".py",
   "mimetype": "text/x-python",
   "name": "python",
   "nbconvert_exporter": "python",
   "pygments_lexer": "ipython3",
   "version": "3.13.3"
  }
 },
 "nbformat": 4,
 "nbformat_minor": 5
}
