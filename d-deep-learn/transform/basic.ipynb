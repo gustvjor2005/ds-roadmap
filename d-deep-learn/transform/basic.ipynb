{
 "cells": [
  {
   "cell_type": "markdown",
   "id": "920efe67",
   "metadata": {},
   "source": [
    "transformer y modelo de atención\n",
    "\n",
    "conda env :  dsroad\n",
    "\n",
    "link estudio :\n",
    "\n",
    "https://web.stanford.edu/class/cs224n/readings/cs224n-self-attention-transformers-2023_draft.pdf\n",
    "\n",
    "https://slds-lmu.github.io/seminar_nlp_ss20/attention-and-self-attention-for-nlp.html\n",
    "\n",
    "28.05   seguir con el curso de langchain\n",
    "        paper sobre trasnformer\n",
    "        buscar tener una interpretación\n",
    "\n"
   ]
  },
  {
   "cell_type": "code",
   "execution_count": 1,
   "id": "c0f17f3f",
   "metadata": {},
   "outputs": [
    {
     "name": "stdout",
     "output_type": "stream",
     "text": [
      "transformer and attention model\n"
     ]
    }
   ],
   "source": [
    "print(\"transformer and attention model\")"
   ]
  }
 ],
 "metadata": {
  "kernelspec": {
   "display_name": "dsroad",
   "language": "python",
   "name": "python3"
  },
  "language_info": {
   "codemirror_mode": {
    "name": "ipython",
    "version": 3
   },
   "file_extension": ".py",
   "mimetype": "text/x-python",
   "name": "python",
   "nbconvert_exporter": "python",
   "pygments_lexer": "ipython3",
   "version": "3.13.3"
  }
 },
 "nbformat": 4,
 "nbformat_minor": 5
}
