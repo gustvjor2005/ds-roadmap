{
 "cells": [
  {
   "cell_type": "markdown",
   "id": "920efe67",
   "metadata": {},
   "source": [
    "transformer y modelo de atención\n",
    "\n",
    "link estudio :\n",
    "\n",
    "https://web.stanford.edu/class/cs224n/readings/cs224n-self-attention-transformers-2023_draft.pdf\n",
    "https://slds-lmu.github.io/seminar_nlp_ss20/attention-and-self-attention-for-nlp.html\n",
    "\n",
    "28.05   seguir con el curso de langchain\n",
    "        paper sobre trasnformer\n",
    "        buscar tener una interpretación\n",
    "\n"
   ]
  }
 ],
 "metadata": {
  "language_info": {
   "name": "python"
  }
 },
 "nbformat": 4,
 "nbformat_minor": 5
}
