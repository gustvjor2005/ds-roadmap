{
 "cells": [
  {
   "cell_type": "markdown",
   "id": "920efe67",
   "metadata": {},
   "source": [
    "transformer y modelo de atención"
   ]
  }
 ],
 "metadata": {
  "language_info": {
   "name": "python"
  }
 },
 "nbformat": 4,
 "nbformat_minor": 5
}
