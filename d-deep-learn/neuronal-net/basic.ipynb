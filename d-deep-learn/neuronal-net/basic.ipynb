{
 "cells": [
  {
   "cell_type": "markdown",
   "id": "f7c01659",
   "metadata": {},
   "source": [
    "### Redes Neuronales para Predicción de Precios de Acciones\n",
    "\n",
    "Predecir la dirección del precio de una acción (subida/bajada) basado en:\n",
    "- Nivel de cambio del precio de la posición\n",
    "- Nivel de cambio del volumen transado\n",
    "\n",
    "La red neuronal aprenderá patrones en estas variables para clasificar movimientos futuros del mercado."
   ]
  },
  {
   "cell_type": "code",
   "execution_count": 1,
   "id": "0196a737",
   "metadata": {},
   "outputs": [
    {
     "name": "stderr",
     "output_type": "stream",
     "text": [
      "/tmp/ipykernel_92773/2937746364.py:3: FutureWarning: YF.download() has changed argument auto_adjust default to True\n",
      "  data = yf.download('BAP', period='90d', interval='1d')\n",
      "[*********************100%***********************]  1 of 1 completed\n",
      "[*********************100%***********************]  1 of 1 completed\n"
     ]
    }
   ],
   "source": [
    "import yfinance as yf\n",
    "\n",
    "data = yf.download('BAP', period='90d', interval='1d')\n",
    "data['Price_Change'] = data['Close'].pct_change()\n",
    "data['Volume_Change'] = data['Volume'].pct_change()\n",
    "\n",
    "#data['Price_Change']\n"
   ]
  },
  {
   "cell_type": "code",
   "execution_count": 2,
   "id": "4ef31dbf",
   "metadata": {},
   "outputs": [],
   "source": [
    "# el target refleja el movimiento del siguiente dia\n",
    "# mientras para los feature es el mismo dia\n",
    "data['Target'] = (data['Price_Change'].shift(-1) > 0).astype(int)\n",
    "\n",
    "#la ultima fila quedará como NA pero dado que \n",
    "#NA > 0 return False entonces el valor del target en la\n",
    "#última fila se llenará con 0\n",
    "data = data.iloc[1:-1] # remuevo la primera y la última fila"
   ]
  },
  {
   "cell_type": "code",
   "execution_count": 22,
   "id": "ca2ed9be",
   "metadata": {},
   "outputs": [
    {
     "data": {
      "text/html": [
       "<div>\n",
       "<style scoped>\n",
       "    .dataframe tbody tr th:only-of-type {\n",
       "        vertical-align: middle;\n",
       "    }\n",
       "\n",
       "    .dataframe tbody tr th {\n",
       "        vertical-align: top;\n",
       "    }\n",
       "\n",
       "    .dataframe thead tr th {\n",
       "        text-align: left;\n",
       "    }\n",
       "\n",
       "    .dataframe thead tr:last-of-type th {\n",
       "        text-align: right;\n",
       "    }\n",
       "</style>\n",
       "<table border=\"1\" class=\"dataframe\">\n",
       "  <thead>\n",
       "    <tr>\n",
       "      <th>Price</th>\n",
       "      <th>Price_Change</th>\n",
       "      <th>Volume_Change</th>\n",
       "      <th>Target</th>\n",
       "    </tr>\n",
       "    <tr>\n",
       "      <th>Ticker</th>\n",
       "      <th></th>\n",
       "      <th></th>\n",
       "      <th></th>\n",
       "    </tr>\n",
       "    <tr>\n",
       "      <th>Date</th>\n",
       "      <th></th>\n",
       "      <th></th>\n",
       "      <th></th>\n",
       "    </tr>\n",
       "  </thead>\n",
       "  <tbody>\n",
       "    <tr>\n",
       "      <th>2025-02-10</th>\n",
       "      <td>0.004206</td>\n",
       "      <td>0.132335</td>\n",
       "      <td>0</td>\n",
       "    </tr>\n",
       "    <tr>\n",
       "      <th>2025-02-11</th>\n",
       "      <td>-0.013559</td>\n",
       "      <td>0.504646</td>\n",
       "      <td>0</td>\n",
       "    </tr>\n",
       "    <tr>\n",
       "      <th>2025-02-12</th>\n",
       "      <td>-0.019425</td>\n",
       "      <td>-0.323040</td>\n",
       "      <td>0</td>\n",
       "    </tr>\n",
       "  </tbody>\n",
       "</table>\n",
       "</div>"
      ],
      "text/plain": [
       "Price      Price_Change Volume_Change Target\n",
       "Ticker                                      \n",
       "Date                                        \n",
       "2025-02-10     0.004206      0.132335      0\n",
       "2025-02-11    -0.013559      0.504646      0\n",
       "2025-02-12    -0.019425     -0.323040      0"
      ]
     },
     "execution_count": 22,
     "metadata": {},
     "output_type": "execute_result"
    }
   ],
   "source": [
    "data[['Price_Change', 'Volume_Change', 'Target']].head(3)"
   ]
  },
  {
   "cell_type": "code",
   "execution_count": 3,
   "id": "66e697d1",
   "metadata": {},
   "outputs": [],
   "source": [
    "import torch\n",
    "from torch import nn\n",
    "from sklearn.preprocessing import StandardScaler\n",
    "from sklearn.model_selection import train_test_split"
   ]
  },
  {
   "cell_type": "code",
   "execution_count": 4,
   "id": "47b7c6d2",
   "metadata": {},
   "outputs": [],
   "source": [
    "X = data[['Price_Change', 'Volume_Change']].values\n",
    "Y = data['Target'].values\n",
    "\n",
    "scaler = StandardScaler()\n",
    "X_scaled = scaler.fit_transform(X)\n",
    "\n",
    "X_train, X_test, Y_train, Y_test = train_test_split(\n",
    "    X_scaled, Y, test_size=.2, random_state=42)\n",
    "\n",
    "x_train = torch.tensor(X_train, dtype=torch.float32)\n",
    "y_train = torch.tensor(Y_train, dtype=torch.float32).view(-1, 1)\n",
    "x_test = torch.tensor(X_test, dtype=torch.float32)\n",
    "y_test = torch.tensor(Y_test, dtype=torch.float32).view(-1, 1)\n"
   ]
  },
  {
   "cell_type": "code",
   "execution_count": null,
   "id": "f2653233",
   "metadata": {},
   "outputs": [
    {
     "data": {
      "text/plain": [
       "torch.Size([47, 1])"
      ]
     },
     "execution_count": 22,
     "metadata": {},
     "output_type": "execute_result"
    }
   ],
   "source": [
    "# para pytorch (m, n )\n",
    "# m debe ser la cantidad de elementos\n",
    "# n la cantidad de features\n",
    "y_train.shape"
   ]
  },
  {
   "cell_type": "code",
   "execution_count": 5,
   "id": "e5200707",
   "metadata": {},
   "outputs": [],
   "source": [
    "class Net(nn.Module):\n",
    "    def __init__(self, input_size, hidde_size):\n",
    "        super(Net, self).__init__()\n",
    "        self.input_size = input_size\n",
    "        self.hidde_size = hidde_size\n",
    "        self.fc1 = nn.Linear(input_size, hidde_size)\n",
    "        self.tanh = nn.Tanh()\n",
    "        self.fc2 = nn.Linear(hidde_size, 1)\n",
    "        self.sigmoid = nn.Sigmoid()\n",
    "        \n",
    "    def forward(self, x):\n",
    "        x = self.fc1(x)\n",
    "        x = self.tanh(x)\n",
    "        x = self.fc2(x)\n",
    "        x = self.sigmoid(x)\n",
    "\n",
    "        return x"
   ]
  },
  {
   "cell_type": "code",
   "execution_count": 7,
   "id": "737c62e5",
   "metadata": {},
   "outputs": [],
   "source": [
    "model = Net(2, 7)\n",
    "criterion = nn.BCELoss()\n",
    "optimizer = torch.optim.Adam(model.parameters(), lr=0.01)\n"
   ]
  },
  {
   "cell_type": "code",
   "execution_count": 8,
   "id": "eabdf230",
   "metadata": {},
   "outputs": [
    {
     "name": "stdout",
     "output_type": "stream",
     "text": [
      "Epoch 50/ 270, loss: 0.6560\n",
      "Epoch 100/ 270, loss: 0.6456\n",
      "Epoch 150/ 270, loss: 0.6304\n",
      "Epoch 200/ 270, loss: 0.6091\n",
      "Epoch 250/ 270, loss: 0.5966\n"
     ]
    }
   ],
   "source": [
    "epochs = 270\n",
    "\n",
    "for epoch in range(epochs):\n",
    "    model.train()\n",
    "    y_pred = model(x_train)\n",
    "    loss = criterion(y_pred, y_train)\n",
    "    optimizer.zero_grad()\n",
    "    loss.backward()\n",
    "    optimizer.step()\n",
    "    \n",
    "    if (epoch + 1) % 50 == 0:\n",
    "        print(f'Epoch {epoch + 1}/ {epochs}, loss: {loss.item():.4f}')"
   ]
  },
  {
   "cell_type": "code",
   "execution_count": 9,
   "id": "4ecd0d5d",
   "metadata": {},
   "outputs": [
    {
     "name": "stdout",
     "output_type": "stream",
     "text": [
      "Test Accuracy: 0.6667\n"
     ]
    }
   ],
   "source": [
    "\n",
    "model.eval()\n",
    "\n",
    "with torch.no_grad():\n",
    "    y_pred_test = model(x_test)\n",
    "    y_pred_labels = (y_pred_test > 0).float()\n",
    "    accuracy = (y_pred_labels == y_test).float().mean()\n",
    "    print(f'Test Accuracy: {accuracy:.4f}')\n",
    "    "
   ]
  },
  {
   "cell_type": "code",
   "execution_count": 14,
   "id": "22ad2a58",
   "metadata": {},
   "outputs": [
    {
     "name": "stdout",
     "output_type": "stream",
     "text": [
      "Prediction: price will increase \n"
     ]
    }
   ],
   "source": [
    "last_row = data[['Price_Change', 'Volume_Change']].iloc[-1].values\n",
    "last_row_tensor = torch.FloatTensor(last_row).view(1, -1)\n",
    "\n",
    "model.eval()\n",
    "\n",
    "with torch.no_grad():\n",
    "    predition = model(last_row_tensor)\n",
    "    prediction_label = 1 if predition > .5 else 0\n",
    "\n",
    "print(f'Prediction: {'price will increase ' if prediction_label == 1 \n",
    "      else 'price will redice'}')\n",
    "\n",
    "\n",
    "\n"
   ]
  },
  {
   "cell_type": "code",
   "execution_count": null,
   "id": "3368c06f",
   "metadata": {},
   "outputs": [],
   "source": []
  }
 ],
 "metadata": {
  "kernelspec": {
   "display_name": "dsroad",
   "language": "python",
   "name": "python3"
  },
  "language_info": {
   "codemirror_mode": {
    "name": "ipython",
    "version": 3
   },
   "file_extension": ".py",
   "mimetype": "text/x-python",
   "name": "python",
   "nbconvert_exporter": "python",
   "pygments_lexer": "ipython3",
   "version": "3.13.3"
  }
 },
 "nbformat": 4,
 "nbformat_minor": 5
}
