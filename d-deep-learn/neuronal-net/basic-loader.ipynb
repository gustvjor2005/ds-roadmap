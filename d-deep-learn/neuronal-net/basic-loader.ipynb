{
 "cells": [
  {
   "cell_type": "markdown",
   "id": "f7c01659",
   "metadata": {},
   "source": [
    "### Redes Neuronales para Predicción de Precios de Acciones\n",
    "\n",
    "Predecir la dirección del precio de una acción (subida/bajada) basado en:\n",
    "- Nivel de cambio del precio de la posición\n",
    "- Nivel de cambio del volumen transado\n",
    "\n",
    "La red neuronal aprenderá patrones en estas variables para clasificar movimientos futuros del mercado."
   ]
  },
  {
   "cell_type": "code",
   "execution_count": 1,
   "id": "0196a737",
   "metadata": {},
   "outputs": [
    {
     "name": "stderr",
     "output_type": "stream",
     "text": [
      "/tmp/ipykernel_10587/3037657050.py:7: FutureWarning: YF.download() has changed argument auto_adjust default to True\n",
      "  data = yf.download('BAP', period='1000d', interval='1d')\n",
      "[*********************100%***********************]  1 of 1 completed\n"
     ]
    }
   ],
   "source": [
    "import yfinance as yf\n",
    "import torch\n",
    "from torch import nn\n",
    "from sklearn.preprocessing import StandardScaler\n",
    "from sklearn.model_selection import train_test_split\n",
    "\n",
    "data = yf.download('BAP', period='1000d', interval='1d')\n",
    "data['Price_Change'] = data['Close'].pct_change()\n",
    "data['Volume_Change'] = data['Volume'].pct_change()\n",
    "\n",
    "#data['Price_Change']\n"
   ]
  },
  {
   "cell_type": "code",
   "execution_count": 2,
   "id": "4ef31dbf",
   "metadata": {},
   "outputs": [],
   "source": [
    "data['Target'] = (data['Price_Change'].shift(-1) > 0).astype(int)\n",
    "data = data.iloc[1:-1] # remuevo la primera y la última fila"
   ]
  },
  {
   "cell_type": "code",
   "execution_count": 18,
   "id": "0480dab6",
   "metadata": {},
   "outputs": [],
   "source": [
    "# Stock Dataset\n",
    "from torch.utils.data import Dataset\n",
    "\n",
    "class StockDataset(Dataset):\n",
    "    def __init__(self, features, targets):\n",
    "        self.features = torch.tensor(features, dtype=torch.float32)\n",
    "        self.targets = torch.tensor(targets, dtype = torch.long)\n",
    "        \n",
    "    def __len__(self):\n",
    "        return len(self.targets)\n",
    "\n",
    "    def __getitem__(self, index):\n",
    "        return self.features[index], self.targets[index]"
   ]
  },
  {
   "cell_type": "code",
   "execution_count": null,
   "id": "47b7c6d2",
   "metadata": {},
   "outputs": [],
   "source": [
    "from torch.utils.data import DataLoader, TensorDataset\n",
    "\n",
    "X = data[['Price_Change', 'Volume_Change']].values # type: ignore\n",
    "Y = data['Target'].values\n",
    "\n",
    "scaler = StandardScaler()\n",
    "X_scaled = scaler.fit_transform(X)\n",
    "\n",
    "X_train, X_test, Y_train, Y_test = train_test_split(\n",
    "    X_scaled, Y, test_size=.2, random_state=42)\n",
    "\n",
    "train_dataset = StockDataset(X_train, Y_train)\n",
    "test_dataset = StockDataset(X_test, Y_test)"
   ]
  },
  {
   "cell_type": "code",
   "execution_count": 20,
   "id": "f2653233",
   "metadata": {},
   "outputs": [],
   "source": [
    "from torch.utils.data import DataLoader\n",
    "\n",
    "train_dataloader = DataLoader(train_dataset, batch_size=5, shuffle=True)\n",
    "test_dataloader = DataLoader(test_dataset, batch_size=5, shuffle=True)"
   ]
  },
  {
   "cell_type": "code",
   "execution_count": 25,
   "id": "e5200707",
   "metadata": {},
   "outputs": [],
   "source": [
    "class Net(nn.Module):\n",
    "    def __init__(self, input_size, hidde_size):\n",
    "        super(Net, self).__init__()\n",
    "        self.input_size = input_size\n",
    "        self.hidde_size = hidde_size\n",
    "        self.fc1 = nn.Linear(input_size, hidde_size)\n",
    "        self.tanh = nn.Tanh()\n",
    "        self.fc2 = nn.Linear(hidde_size, 2)\n",
    "        self.sigmoid = nn.Sigmoid()\n",
    "        \n",
    "    def forward(self, x):\n",
    "        x = self.fc1(x)\n",
    "        x = self.tanh(x)\n",
    "        x = self.fc2(x)\n",
    "        x = self.sigmoid(x)\n",
    "\n",
    "        return x"
   ]
  },
  {
   "cell_type": "code",
   "execution_count": 26,
   "id": "737c62e5",
   "metadata": {},
   "outputs": [],
   "source": [
    "model = Net(2, 15)\n",
    "criterion = nn.CrossEntropyLoss()\n",
    "optimizer = torch.optim.Adam(model.parameters(), lr=0.01)\n"
   ]
  },
  {
   "cell_type": "code",
   "execution_count": null,
   "id": "eabdf230",
   "metadata": {},
   "outputs": [],
   "source": [
    "epochs = 3\n",
    "\n",
    "for epoch in range(epochs):\n",
    "    model.train()\n",
    "    for batch_x, batch_y in train_dataloader:\n",
    "        y_hat = model(batch_x)\n",
    "        print(f'yhat {y_hat.shape} vs {batch_y.shape}')\n",
    "        print(f'target is {batch_y}')\n",
    "        loss = criterion(y_hat, batch_y)\n",
    "        optimizer.zero_grad()\n",
    "        loss.backward()\n",
    "        optimizer.step()\n",
    "    \n",
    "        "
   ]
  },
  {
   "cell_type": "code",
   "execution_count": null,
   "id": "4ecd0d5d",
   "metadata": {},
   "outputs": [],
   "source": [
    "\n",
    "model.eval()\n",
    "correct = 0\n",
    "total = 0\n",
    "\n",
    "with torch.no_grad():    \n",
    "    for batch_x, batch_y in test_dataloader:    \n",
    "        y_pred_test = model(batch_x)\n",
    "        print(f'y_pred_test is {y_pred_test}')\n",
    "        predicted_class = torch.argmax(y_pred_test, dim=1)\n",
    "        total += batch_y.size(0)\n",
    "        correct = (predicted_class == batch_y).sum().item()\n",
    "    \n",
    "    accuracy = correct / total\n",
    "    print(f'Test accuracy : {accuracy:.4f}')\n",
    "    "
   ]
  },
  {
   "cell_type": "markdown",
   "id": "9d095621",
   "metadata": {},
   "source": [
    "Reset model weight"
   ]
  },
  {
   "cell_type": "code",
   "execution_count": null,
   "id": "994594e8",
   "metadata": {},
   "outputs": [
    {
     "name": "stdout",
     "output_type": "stream",
     "text": [
      "fc1.weight : 0.088\n",
      "fc1.bias : 0.066\n",
      "fc2.weight : 0.120\n",
      "fc2.bias : 0.360\n"
     ]
    }
   ],
   "source": [
    "for name, param in model.named_parameters():\n",
    "    print(f\"{name} : {param.data.mean():.3f}\")"
   ]
  },
  {
   "cell_type": "code",
   "execution_count": 42,
   "id": "3368c06f",
   "metadata": {},
   "outputs": [
    {
     "name": "stdout",
     "output_type": "stream",
     "text": [
      "model parameter after reset:\n",
      "fc1.weight : 0.1547\n",
      "fc1.bias : -0.9573\n",
      "fc2.weight : -0.2598\n",
      "fc2.bias : 0.8145\n"
     ]
    }
   ],
   "source": [
    "def reset_weights(model):\n",
    "    for layer in model.children():\n",
    "        if hasattr(layer, 'reset_paramters'):\n",
    "            layer.reset_parameters()\n",
    "\n",
    "reset_weights(model)\n",
    "\n",
    "print(\"model parameter after reset:\")\n",
    "\n",
    "for name, param in model.named_parameters():\n",
    "    print(f\"{name} : {param.data.mean():.4f}\")\n",
    "\n",
    "\n"
   ]
  }
 ],
 "metadata": {
  "kernelspec": {
   "display_name": "dsroad",
   "language": "python",
   "name": "python3"
  },
  "language_info": {
   "codemirror_mode": {
    "name": "ipython",
    "version": 3
   },
   "file_extension": ".py",
   "mimetype": "text/x-python",
   "name": "python",
   "nbconvert_exporter": "python",
   "pygments_lexer": "ipython3",
   "version": "3.13.3"
  }
 },
 "nbformat": 4,
 "nbformat_minor": 5
}
